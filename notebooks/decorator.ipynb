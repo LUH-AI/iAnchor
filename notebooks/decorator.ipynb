{
 "cells": [
  {
   "cell_type": "code",
   "execution_count": 8,
   "metadata": {},
   "outputs": [
    {
     "name": "stdout",
     "output_type": "stream",
     "text": [
      "[0 0]\n"
     ]
    }
   ],
   "source": [
    "from time import perf_counter\n",
    "import torch\n",
    "import numpy as np\n",
    "\n",
    "device = torch.device(\"cuda:0\" if torch.cuda.is_available() else \"cpu\")\n",
    "\n",
    "def pytorch_wrapper(torch_device):\n",
    "    def decorating(fn):\n",
    "        def inner(x):\n",
    "            print(type(device))\n",
    "            torch_x = torch.Tensor(x).to(torch_device)\n",
    "            y_proba = fn(torch_x).numpy()\n",
    "            return np.argmax(y_proba, axis=1)\n",
    "\n",
    "        return inner\n",
    "    return decorating\n",
    "\n",
    "@pytorch_wrapper(device)\n",
    "def fake_predict(x):\n",
    "    return torch.Tensor([[1., 0., 1., 0.], [1., 0., 1., 0.]])\n",
    "\n",
    "print(fake_predict(np.array([1, 0, 1, 0])))"
   ]
  }
 ],
 "metadata": {
  "interpreter": {
   "hash": "1ee014a394539ea33a681f57bab852aba5460f711bf7a82fe5b61ba0c6bc8483"
  },
  "kernelspec": {
   "display_name": "Python 3.9.7 64-bit ('iML': conda)",
   "language": "python",
   "name": "python3"
  },
  "language_info": {
   "codemirror_mode": {
    "name": "ipython",
    "version": 3
   },
   "file_extension": ".py",
   "mimetype": "text/x-python",
   "name": "python",
   "nbconvert_exporter": "python",
   "pygments_lexer": "ipython3",
   "version": "3.9.7"
  },
  "orig_nbformat": 4
 },
 "nbformat": 4,
 "nbformat_minor": 2
}
