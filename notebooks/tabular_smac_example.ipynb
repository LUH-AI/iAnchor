{
 "cells": [
  {
   "cell_type": "code",
   "execution_count": 1,
   "metadata": {},
   "outputs": [],
   "source": [
    "import numpy as np\n",
    "import sklearn\n",
    "import sklearn.ensemble\n",
    "import os\n",
    "import sys\n",
    "\n",
    "module_path = os.path.abspath(os.path.join('..'))\n",
    "if module_path not in sys.path:\n",
    "    sys.path.append(module_path)\n",
    "from Anchor.anchor import Anchor, Tasktype"
   ]
  },
  {
   "cell_type": "code",
   "execution_count": 5,
   "metadata": {},
   "outputs": [
    {
     "name": "stderr",
     "output_type": "stream",
     "text": [
      "INFO:root: Start Sampling\n",
      "INFO:root: Start SMAC Search\n",
      "INFO:smac.utils.io.cmd_reader.CMDReader:Output to smac3-output_2022-02-13_23:54:09_924584\n",
      "INFO:smac.facade.smac_bb_facade.SMAC4BB:Optimizing a deterministic scenario for quality without a tuner timeout - will make SMAC deterministic and only evaluate one configuration per iteration!\n",
      "INFO:smac.initial_design.sobol_design.SobolDesign:Running initial design for 80 configurations\n",
      "INFO:smac.facade.smac_bb_facade.SMAC4BB:<class 'smac.facade.smac_bb_facade.SMAC4BB'>\n",
      "INFO:smac.optimizer.smbo.SMBO:Running initial design\n",
      "/Users/ironmonkeyapps/miniconda3/envs/iAnchor/lib/python3.9/site-packages/scipy/stats/_qmc.py:1078: UserWarning: The balance properties of Sobol' points require n to be a power of 2.\n",
      "  warnings.warn(\"The balance properties of Sobol' points require\"\n",
      "INFO:smac.intensification.intensification.Intensifier:First run, no incumbent provided; challenger is assumed to be the incumbent\n"
     ]
    },
    {
     "name": "stdout",
     "output_type": "stream",
     "text": [
      "Train 1.0\n"
     ]
    },
    {
     "name": "stderr",
     "output_type": "stream",
     "text": [
      "INFO:smac.intensification.intensification.Intensifier:First run, no incumbent provided; challenger is assumed to be the incumbent\n",
      "INFO:smac.intensification.intensification.Intensifier:Updated estimated cost of incumbent on 1 runs: 0.5575\n",
      "INFO:smac.intensification.intensification.Intensifier:Challenger (0.5337) is better than incumbent (0.5575) on 1 runs.\n",
      "INFO:smac.intensification.intensification.Intensifier:Changes in incumbent:\n",
      "INFO:smac.intensification.intensification.Intensifier:  0 : 0 -> 1\n",
      "INFO:smac.intensification.intensification.Intensifier:  1 : 1 -> 0\n",
      "INFO:smac.intensification.intensification.Intensifier:  2 : 1 -> 0\n",
      "INFO:smac.intensification.intensification.Intensifier:  3 : 0 -> 1\n",
      "INFO:smac.intensification.intensification.Intensifier:  4 : 1 -> 0\n",
      "INFO:smac.intensification.intensification.Intensifier:  5 : 1 -> 0\n",
      "INFO:smac.intensification.intensification.Intensifier:  6 : 0 -> 1\n",
      "INFO:smac.intensification.intensification.Intensifier:  7 : 0 -> 1\n",
      "INFO:smac.intensification.intensification.Intensifier:  8 : 0 -> 1\n",
      "INFO:smac.intensification.intensification.Intensifier:  9 : 1 -> 0\n",
      "INFO:smac.intensification.intensification.Intensifier:Challenger (0.3125) is better than incumbent (0.5337) on 1 runs.\n",
      "INFO:smac.intensification.intensification.Intensifier:Changes in incumbent:\n",
      "INFO:smac.intensification.intensification.Intensifier:  0 : 1 -> 0\n",
      "INFO:smac.intensification.intensification.Intensifier:  3 : 1 -> 0\n",
      "INFO:smac.intensification.intensification.Intensifier:  6 : 1 -> 0\n",
      "INFO:smac.intensification.intensification.Intensifier:  7 : 1 -> 0\n",
      "INFO:smac.intensification.intensification.Intensifier:  8 : 1 -> 0\n",
      "INFO:smac.intensification.intensification.Intensifier:Challenger (0.2850) is better than incumbent (0.3125) on 1 runs.\n",
      "INFO:smac.intensification.intensification.Intensifier:Changes in incumbent:\n",
      "INFO:smac.intensification.intensification.Intensifier:  0 : 0 -> 1\n",
      "INFO:smac.intensification.intensification.Intensifier:  1 : 0 -> 1\n",
      "INFO:smac.intensification.intensification.Intensifier:  2 : 0 -> 1\n",
      "INFO:smac.intensification.intensification.Intensifier:  7 : 0 -> 1\n",
      "INFO:smac.intensification.intensification.Intensifier:  8 : 0 -> 1\n",
      "INFO:smac.stats.stats.Stats:##########################################################\n",
      "INFO:smac.stats.stats.Stats:Statistics:\n",
      "INFO:smac.stats.stats.Stats:#Incumbent changed: 3\n",
      "INFO:smac.stats.stats.Stats:#Submitted target algorithm runs: 70 / inf\n",
      "INFO:smac.stats.stats.Stats:#Finished target algorithm runs: 70 / inf\n",
      "INFO:smac.stats.stats.Stats:#Configurations: 70\n",
      "INFO:smac.stats.stats.Stats:Used wallclock time: 656.45 / inf sec \n",
      "INFO:smac.stats.stats.Stats:Used target algorithm runtime: 603.95 / 600.00 sec\n",
      "INFO:smac.stats.stats.Stats:##########################################################\n",
      "INFO:smac.facade.smac_bb_facade.SMAC4BB:Final Incumbent: Configuration(values={\n",
      "  '0': 1,\n",
      "  '1': 1,\n",
      "  '2': 1,\n",
      "  '3': 0,\n",
      "  '4': 0,\n",
      "  '5': 0,\n",
      "  '6': 0,\n",
      "  '7': 1,\n",
      "  '8': 1,\n",
      "  '9': 0,\n",
      "})\n",
      "\n",
      "INFO:smac.facade.smac_bb_facade.SMAC4BB:Estimated cost of incumbent: 0.285000\n"
     ]
    }
   ],
   "source": [
    "data = np.genfromtxt('../datasets/titanic.txt', delimiter=',')\n",
    "y_train = data[:, -1]\n",
    "X_train = data[:, :-1]\n",
    "\n",
    "c = sklearn.ensemble.RandomForestClassifier(n_estimators=100, n_jobs=5)\n",
    "c.fit(X_train, y_train)\n",
    "print('Train', sklearn.metrics.accuracy_score(y_train, c.predict(X_train)))\n",
    "\n",
    "explainer = Anchor(Tasktype.TABULAR)\n",
    "\n",
    "task_paras = {\"dataset\": X_train, \"column_names\": [\"PcClass\", \"Name\", \"Sex\", \"Age\", \"SibSp\", \"Parch\", \"Ticket\", \"Fare\", \"Cabin\", \"Embarked\"]}\n",
    "method_paras = {\"run_time\": 10*60}\n",
    "anchor = explainer.explain_instance(\n",
    "    input=X_train[759].reshape(1, -1),\n",
    "    predict_fn=c.predict,\n",
    "    method=\"smac\",\n",
    "    task_specific=task_paras,\n",
    "    method_specific=method_paras,\n",
    "    num_coverage_samples=100\n",
    ")"
   ]
  },
  {
   "cell_type": "code",
   "execution_count": 7,
   "metadata": {},
   "outputs": [
    {
     "data": {
      "text/plain": [
       "AnchorCandidate(feature_mask=[0, 1, 2, 7, 8], precision=0.5, n_samples=0, positive_samples=0, coverage=0.05)"
      ]
     },
     "execution_count": 7,
     "metadata": {},
     "output_type": "execute_result"
    }
   ],
   "source": [
    "anchor"
   ]
  },
  {
   "cell_type": "code",
   "execution_count": 8,
   "metadata": {},
   "outputs": [
    {
     "name": "stdout",
     "output_type": "stream",
     "text": [
      "PcClass = 1.0 AND Name = 759.0 AND Sex = 1.0 AND Fare = 3.0 AND Cabin = 1.0\n"
     ]
    }
   ],
   "source": [
    "visu = explainer.visualize(anchor, X_train[759])\n",
    "print(visu)"
   ]
  }
 ],
 "metadata": {
  "interpreter": {
   "hash": "acf175966147f74e830075b35c84036cdfaa5c925a9213ae52a4dd678cda6850"
  },
  "kernelspec": {
   "display_name": "Python 3.9.7 64-bit ('IML-Anchors': conda)",
   "language": "python",
   "name": "python3"
  },
  "language_info": {
   "codemirror_mode": {
    "name": "ipython",
    "version": 3
   },
   "file_extension": ".py",
   "mimetype": "text/x-python",
   "name": "python",
   "nbconvert_exporter": "python",
   "pygments_lexer": "ipython3",
   "version": "3.9.7"
  },
  "orig_nbformat": 4
 },
 "nbformat": 4,
 "nbformat_minor": 2
}
