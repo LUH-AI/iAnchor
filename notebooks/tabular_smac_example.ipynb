{
 "cells": [
  {
   "cell_type": "code",
   "execution_count": null,
   "metadata": {},
   "outputs": [],
   "source": [
    "import numpy as np\n",
    "import lime\n",
    "import sklearn\n",
    "import sklearn.ensemble\n",
    "from anchor import utils\n",
    "from anchor import anchor_tabular\n",
    "import os\n",
    "import sys\n",
    "\n",
    "module_path = os.path.abspath(os.path.join('..'))\n",
    "if module_path not in sys.path:\n",
    "    sys.path.append(module_path)\n",
    "from Anchor.anchor import Anchor, Tasktype"
   ]
  },
  {
   "cell_type": "code",
   "execution_count": null,
   "metadata": {},
   "outputs": [],
   "source": [
    "data = np.genfromtxt('../datasets/titanic.txt', delimiter=',')\n",
    "y_train = data[:, -1]\n",
    "X_train = data[:, :-1]\n",
    "\n",
    "c = sklearn.ensemble.RandomForestClassifier(n_estimators=100, n_jobs=5)\n",
    "c.fit(X_train, y_train)\n",
    "print('Train', sklearn.metrics.accuracy_score(y_train, c.predict(X_train)))\n",
    "\n",
    "explainer = Anchor(Tasktype.TABULAR)\n",
    "\n",
    "anchor = explainer.explain_instance(X_train[759].reshape(1, -1), c.predict, \"smac\", X_train, 100)"
   ]
  },
  {
   "cell_type": "code",
   "execution_count": null,
   "metadata": {},
   "outputs": [],
   "source": [
    "anchor"
   ]
  }
 ],
 "metadata": {
  "interpreter": {
   "hash": "acf175966147f74e830075b35c84036cdfaa5c925a9213ae52a4dd678cda6850"
  },
  "kernelspec": {
   "display_name": "Python 3.9.7 64-bit ('IML-Anchors': conda)",
   "language": "python",
   "name": "python3"
  },
  "language_info": {
   "codemirror_mode": {
    "name": "ipython",
    "version": 3
   },
   "file_extension": ".py",
   "mimetype": "text/x-python",
   "name": "python",
   "nbconvert_exporter": "python",
   "pygments_lexer": "ipython3",
   "version": "3.9.7"
  },
  "orig_nbformat": 4
 },
 "nbformat": 4,
 "nbformat_minor": 2
}
