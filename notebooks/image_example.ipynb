{
 "cells": [
  {
   "cell_type": "code",
   "execution_count": null,
   "metadata": {},
   "outputs": [],
   "source": [
    "import os\n",
    "import sys\n",
    "module_path = os.path.abspath(os.path.join('..'))\n",
    "if module_path not in sys.path:\n",
    "    sys.path.append(module_path)\n",
    "\n",
    "import torch\n",
    "import torchvision.transforms as transforms\n",
    "from Anchor.anchor import Anchor, Tasktype\n",
    "from torchvision.models import inception_v3, resnet18\n",
    "from PIL import Image, ImageOps\n",
    "import matplotlib.pyplot as plt\n",
    "import numpy as np\n",
    "from skimage.segmentation import mark_boundaries\n",
    "\n",
    "%load_ext autoreload\n",
    "%autoreload 2"
   ]
  },
  {
   "cell_type": "code",
   "execution_count": null,
   "metadata": {},
   "outputs": [],
   "source": [
    "\n",
    "# model:c, h, w\n",
    "# numpy, sklearn matplotlib: w, h, c\n",
    "preprocess = transforms.Compose([\n",
    "    transforms.Resize(299),\n",
    "    transforms.CenterCrop(299),\n",
    "    transforms.ToTensor(),\n",
    "    transforms.Normalize(mean=[0.485, 0.456, 0.406], std=[0.229, 0.224, 0.225]),\n",
    "])\n",
    "# c, h, w\n",
    "\n",
    "image = Image.open(\"../static/dog_paper.jpeg\")\n",
    "input = preprocess(image).unsqueeze(0)\n",
    "# b, c, h, w\n",
    "\n",
    "model = inception_v3(pretrained=True)\n",
    "model.eval()\n",
    "\n",
    "plt.imshow(input.squeeze().permute(1,2,0))\n",
    "# h w c\n",
    "\n",
    "with torch.no_grad():\n",
    "    output = model(input)\n",
    "\n",
    "print(torch.argmax(output, dim=1))\n",
    "probs = torch.nn.functional.softmax(output[0], dim=0)\n",
    "\n",
    "with open(\"../static/imagenet_classes.txt\", \"r\") as f:\n",
    "    categories = [s.strip() for s in f.readlines()]\n",
    "    # Show top categories per image\n",
    "    top5_prob, top5_catid = torch.topk(probs, 5)\n",
    "    top5_prob, top5_catid = top5_prob.squeeze(), top5_catid.squeeze()\n",
    "    for i in range(top5_prob.size(0)):\n",
    "        print(top5_catid[i])\n",
    "        print(categories[top5_catid[i]], top5_prob[i].item())"
   ]
  },
  {
   "cell_type": "code",
   "execution_count": null,
   "metadata": {},
   "outputs": [],
   "source": [
    "from Anchor.util import pytorch_image_wrapper\n",
    "\n",
    "device = torch.device(\"cuda\" if torch.cuda.is_available() else \"cpu\")\n",
    "model.to(device)\n",
    "\n",
    "explainer = Anchor(Tasktype.IMAGE)\n",
    "\n",
    "@pytorch_image_wrapper(device)\n",
    "def predict(x):\n",
    "    return model(x)\n",
    "\n",
    "\n",
    "anchor = explainer.explain_instance(input.squeeze().permute(1,2,0), predict, \"beam\", None, num_coverage_samples=1000)\n",
    "\n",
    "# img, sp_img = explainer.visualize()\n",
    "# # Greedy segment test\n",
    "# img2 = img.copy()\n",
    "# mask = np.zeros(segments.shape).astype(bool)\n",
    "# for z in (11, 19):\n",
    "#     mask[segments == z] = True\n",
    "# img2[~mask] = sp_img[~mask]\n",
    "\n",
    "# fig = plt.figure(figsize=(8, 8))\n",
    "# fig.add_subplot(1, 3, 1)\n",
    "# plt.imshow(mark_boundaries(img, segments))\n",
    "# fig.add_subplot(1, 3, 2)\n",
    "# plt.imshow(sp_img)\n",
    "# fig.add_subplot(1, 3, 3)\n",
    "# plt.imshow(img2)\n",
    "# plt.show()\n",
    "# # h w c\n",
    "\n",
    "# output = model(torch.Tensor(img2).permute(2,0,1).unsqueeze(0))\n",
    "# print(torch.argmax(output, dim=1))\n",
    "# probs = torch.nn.functional.softmax(output[0], dim=0)\n",
    "# print(probs[162])\n"
   ]
  },
  {
   "cell_type": "code",
   "execution_count": null,
   "metadata": {},
   "outputs": [],
   "source": [
    "from torchvision import datasets\n",
    "\n",
    "dataset = datasets.ImageFolder('../datasets/tiny_imagenet_train_sub/images', transform=preprocess)"
   ]
  },
  {
   "cell_type": "code",
   "execution_count": null,
   "metadata": {},
   "outputs": [],
   "source": [
    "print(anchor.feature_mask)\n",
    "print(anchor.precision)\n",
    "\n",
    "print(segments)\n",
    "print(anchor.feature_mask)\n",
    "idxs = np.argwhere(~np.isin(segments,anchor.feature_mask))\n",
    "print(idxs)\n",
    "# input[:, idxs[:, 0], idxs[:, 1]] = 0\n",
    "# plt.imshow(input.squeeze().permute(2,1,0))\n",
    "\n",
    "img = mark_boundaries(input.squeeze().permute(1,2,0), segments)\n",
    "img[idxs[:, 0], idxs[:, 1], :] = 0\n",
    "plt.imshow(img)"
   ]
  },
  {
   "cell_type": "code",
   "execution_count": null,
   "metadata": {},
   "outputs": [],
   "source": [
    "# #h, w, c\n",
    "# img.shape\n",
    "print(input.shape)\n",
    "model.to(device)\n",
    "input[:,:, idxs[:, 0], idxs[:, 1]] = 0.34\n",
    "\n",
    "output = model(input.to(device))\n",
    "print(torch.argmax(output, dim=1))\n",
    "probs = torch.nn.functional.softmax(output[0], dim=0)\n",
    "print(probs[162])\n"
   ]
  },
  {
   "cell_type": "code",
   "execution_count": null,
   "metadata": {},
   "outputs": [],
   "source": [
    "\"\"\"\n",
    "Beam Search Test\n",
    "\"\"\"\n",
    "\n",
    "device = torch.device(\"cuda\" if torch.cuda.is_available() else \"cpu\")\n",
    "model.to(device)\n",
    "\n",
    "explainer = Anchor(Tasktype.IMAGE)\n",
    "\n",
    "def predict(x):\n",
    "    test = x.to(device)\n",
    "    return model(test)\n",
    "\n",
    "anchor, segments = explainer.explain_instance(input.squeeze().permute(1,2,0), predict, \"beam\", 1000)"
   ]
  }
 ],
 "metadata": {
  "interpreter": {
   "hash": "acf175966147f74e830075b35c84036cdfaa5c925a9213ae52a4dd678cda6850"
  },
  "kernelspec": {
   "display_name": "Python 3.9.7 64-bit ('IML-Anchors': conda)",
   "language": "python",
   "name": "python3"
  },
  "language_info": {
   "codemirror_mode": {
    "name": "ipython",
    "version": 3
   },
   "file_extension": ".py",
   "mimetype": "text/x-python",
   "name": "python",
   "nbconvert_exporter": "python",
   "pygments_lexer": "ipython3",
   "version": "3.9.7"
  },
  "orig_nbformat": 4
 },
 "nbformat": 4,
 "nbformat_minor": 2
}
