{
 "cells": [
  {
   "cell_type": "code",
   "execution_count": 1,
   "metadata": {},
   "outputs": [],
   "source": [
    "import numpy as np\n",
    "import lime\n",
    "import sklearn\n",
    "import sklearn.ensemble\n",
    "from anchor import utils\n",
    "from anchor import anchor_tabular\n",
    "import numpy as np\n",
    "np.random.seed(1)\n",
    "%load_ext autoreload\n",
    "%autoreload 2"
   ]
  },
  {
   "cell_type": "code",
   "execution_count": null,
   "metadata": {},
   "outputs": [],
   "source": []
  },
  {
   "cell_type": "code",
   "execution_count": 2,
   "metadata": {},
   "outputs": [],
   "source": [
    "dataset_folder = '/home/kevin/iml-ws21-projects-risingnumpygods/datasets/'\n",
    "dataset = utils.load_dataset('adult', balance=True, dataset_folder=dataset_folder, discretize=True)"
   ]
  },
  {
   "cell_type": "code",
   "execution_count": 3,
   "metadata": {},
   "outputs": [
    {
     "name": "stdout",
     "output_type": "stream",
     "text": [
      "Train 0.9350338780390594\n",
      "Test 0.8489483747609943\n"
     ]
    }
   ],
   "source": [
    "c = sklearn.ensemble.RandomForestClassifier(n_estimators=50, n_jobs=5)\n",
    "c.fit(dataset.train, dataset.labels_train)\n",
    "print('Train', sklearn.metrics.accuracy_score(dataset.labels_train, c.predict(dataset.train)))\n",
    "print('Test', sklearn.metrics.accuracy_score(dataset.labels_test, c.predict(dataset.test)))"
   ]
  },
  {
   "cell_type": "code",
   "execution_count": 4,
   "metadata": {},
   "outputs": [],
   "source": [
    "explainer = anchor_tabular.AnchorTabularExplainer(\n",
    "    dataset.class_names,\n",
    "    dataset.feature_names,\n",
    "    dataset.train,\n",
    "    dataset.categorical_names)"
   ]
  },
  {
   "cell_type": "code",
   "execution_count": 5,
   "metadata": {},
   "outputs": [
    {
     "name": "stdout",
     "output_type": "stream",
     "text": [
      "Prediction:  b'>50K'\n"
     ]
    }
   ],
   "source": [
    "idx = 0\n",
    "np.random.seed(1)\n",
    "print('Prediction: ', explainer.class_names[c.predict(dataset.test[idx].reshape(1, -1))[0]])\n",
    "exp = explainer.explain_instance(dataset.test[idx], c.predict, threshold=0.95)"
   ]
  },
  {
   "cell_type": "code",
   "execution_count": 6,
   "metadata": {},
   "outputs": [
    {
     "name": "stdout",
     "output_type": "stream",
     "text": [
      "Anchor: Education = Bachelors AND Relationship = Husband AND Occupation = Sales\n",
      "Precision: 0.97\n",
      "Coverage: 0.02\n"
     ]
    }
   ],
   "source": [
    "print('Anchor: %s' % (' AND '.join(exp.names())))\n",
    "print('Precision: %.2f' % exp.precision())\n",
    "print('Coverage: %.2f' % exp.coverage())"
   ]
  },
  {
   "cell_type": "code",
   "execution_count": 7,
   "metadata": {},
   "outputs": [
    {
     "name": "stderr",
     "output_type": "stream",
     "text": [
      "INFO: Start Sampling\n",
      "INFO: Start Greedy Search\n",
      "/home/kevin/iml-ws21-projects-risingnumpygods/Anchor/bandit.py:100: RuntimeWarning: divide by zero encountered in double_scalars\n",
      "  lb[f] = KL_LUCB.dlow_bernoulli(means[f], beta / candidates[f].n_samples)\n",
      "/home/kevin/iml-ws21-projects-risingnumpygods/Anchor/bandit.py:102: RuntimeWarning: divide by zero encountered in double_scalars\n",
      "  ub[f] = KL_LUCB.dup_bernoulli(means[f], beta / candidates[f].n_samples)\n",
      "INFO:1.0\n",
      "/home/kevin/iml-ws21-projects-risingnumpygods/Anchor/bandit.py:102: RuntimeWarning: divide by zero encountered in double_scalars\n",
      "  ub[f] = KL_LUCB.dup_bernoulli(means[f], beta / candidates[f].n_samples)\n",
      "INFO:0.7387792894744342\n",
      "/home/kevin/iml-ws21-projects-risingnumpygods/Anchor/bandit.py:102: RuntimeWarning: divide by zero encountered in double_scalars\n",
      "  ub[f] = KL_LUCB.dup_bernoulli(means[f], beta / candidates[f].n_samples)\n",
      "INFO:0.6926542865001897\n",
      "/home/kevin/iml-ws21-projects-risingnumpygods/Anchor/bandit.py:102: RuntimeWarning: divide by zero encountered in double_scalars\n",
      "  ub[f] = KL_LUCB.dup_bernoulli(means[f], beta / candidates[f].n_samples)\n",
      "INFO:0.6574137627325738\n",
      "/home/kevin/iml-ws21-projects-risingnumpygods/Anchor/bandit.py:102: RuntimeWarning: divide by zero encountered in double_scalars\n",
      "  ub[f] = KL_LUCB.dup_bernoulli(means[f], beta / candidates[f].n_samples)\n",
      "INFO:0.5832984717324258\n",
      "/home/kevin/iml-ws21-projects-risingnumpygods/Anchor/bandit.py:102: RuntimeWarning: divide by zero encountered in double_scalars\n",
      "  ub[f] = KL_LUCB.dup_bernoulli(means[f], beta / candidates[f].n_samples)\n",
      "INFO:0.5559499738964614\n",
      "/home/kevin/iml-ws21-projects-risingnumpygods/Anchor/bandit.py:102: RuntimeWarning: divide by zero encountered in double_scalars\n",
      "  ub[f] = KL_LUCB.dup_bernoulli(means[f], beta / candidates[f].n_samples)\n",
      "INFO:0.5488603108988908\n",
      "/home/kevin/iml-ws21-projects-risingnumpygods/Anchor/bandit.py:102: RuntimeWarning: divide by zero encountered in double_scalars\n",
      "  ub[f] = KL_LUCB.dup_bernoulli(means[f], beta / candidates[f].n_samples)\n",
      "INFO:0.5207751920827797\n",
      "/home/kevin/iml-ws21-projects-risingnumpygods/Anchor/bandit.py:102: RuntimeWarning: divide by zero encountered in double_scalars\n",
      "  ub[f] = KL_LUCB.dup_bernoulli(means[f], beta / candidates[f].n_samples)\n",
      "INFO:0.504276772152335\n",
      "/home/kevin/iml-ws21-projects-risingnumpygods/Anchor/bandit.py:102: RuntimeWarning: divide by zero encountered in double_scalars\n",
      "  ub[f] = KL_LUCB.dup_bernoulli(means[f], beta / candidates[f].n_samples)\n",
      "INFO:0.5005079589389705\n",
      "/home/kevin/iml-ws21-projects-risingnumpygods/Anchor/bandit.py:102: RuntimeWarning: divide by zero encountered in double_scalars\n",
      "  ub[f] = KL_LUCB.dup_bernoulli(means[f], beta / candidates[f].n_samples)\n",
      "INFO:0.49467409259804684\n",
      "INFO:0.4753749162116189\n",
      "INFO:0.3127747420690039\n",
      "INFO:0.3082473862007441\n",
      "INFO:0.28312221736299126\n",
      "INFO:0.2776658001979889\n",
      "INFO:0.25650524991416\n",
      "INFO:0.24874387422023658\n",
      "INFO:0.2443114691698104\n",
      "INFO:0.22618293259363065\n",
      "INFO:0.22145296585207475\n",
      "INFO:0.21514560112049685\n",
      "INFO:0.21065318721713866\n",
      "INFO:0.28402085595874277\n",
      "INFO:0.19558070225709323\n",
      "INFO:0.19228287513998965\n",
      "INFO:0.18665953924993284\n",
      "INFO:0.1779572054666514\n",
      "INFO:0.17130089174566254\n",
      "INFO:0.1677908434636568\n",
      "INFO:0.16411963904017668\n",
      "INFO:0.160460923119482\n",
      "INFO:0.16131278109919733\n",
      "INFO:0.15200745574485808\n",
      "INFO:0.16169889558407113\n",
      "INFO:0.1483656430825142\n",
      "INFO:0.14441346108330844\n",
      "INFO:0.13941870604752638\n",
      "INFO:0.13807744367632635\n",
      "INFO:0.13767625413290174\n",
      "INFO:0.13646720833162485\n",
      "INFO:0.13282713687961134\n",
      "INFO:0.129109710726256\n",
      "INFO:0.12727126672250844\n",
      "INFO:0.12670678940720081\n",
      "INFO:0.1231196811632187\n",
      "INFO:0.1232599914694501\n",
      "INFO:0.12243450755946139\n",
      "INFO:0.12336708473887203\n",
      "INFO:0.11464355324750586\n",
      "INFO:0.11553681358531553\n",
      "INFO:0.11137646923331979\n",
      "INFO:0.10999961043393325\n",
      "INFO:0.10815333758491119\n",
      "INFO:0.10758545742984948\n",
      "INFO:0.10696011198179567\n",
      "INFO:0.10726841710665524\n",
      "INFO:0.10658301894560485\n",
      "INFO:0.1022194625481867\n",
      "INFO:0.10111110893022845\n",
      "INFO:0.10329134784900307\n"
     ]
    },
    {
     "name": "stdout",
     "output_type": "stream",
     "text": [
      "0.5805577257144855 0.608463241473197\n"
     ]
    },
    {
     "name": "stderr",
     "output_type": "stream",
     "text": [
      "INFO:[AnchorCandidate(_feature_mask=[2, 0], _precision=0, _n_samples=0, _positive_samples=0, _coverage=0.6165), AnchorCandidate(_feature_mask=[2, 1], _precision=0, _n_samples=0, _positive_samples=0, _coverage=0.2583), AnchorCandidate(_feature_mask=[2, 3], _precision=0, _n_samples=0, _positive_samples=0, _coverage=0.3392), AnchorCandidate(_feature_mask=[2, 4], _precision=0, _n_samples=0, _positive_samples=0, _coverage=0.7139), AnchorCandidate(_feature_mask=[2, 5], _precision=0, _n_samples=0, _positive_samples=0, _coverage=0.3971), AnchorCandidate(_feature_mask=[2, 7], _precision=0, _n_samples=0, _positive_samples=0, _coverage=0.2254), AnchorCandidate(_feature_mask=[2, 10], _precision=0, _n_samples=0, _positive_samples=0, _coverage=0.5928)]\n",
      "/home/kevin/iml-ws21-projects-risingnumpygods/Anchor/bandit.py:100: RuntimeWarning: divide by zero encountered in double_scalars\n",
      "  lb[f] = KL_LUCB.dlow_bernoulli(means[f], beta / candidates[f].n_samples)\n",
      "/home/kevin/iml-ws21-projects-risingnumpygods/Anchor/bandit.py:102: RuntimeWarning: divide by zero encountered in double_scalars\n",
      "  ub[f] = KL_LUCB.dup_bernoulli(means[f], beta / candidates[f].n_samples)\n",
      "INFO:1.0\n",
      "/home/kevin/iml-ws21-projects-risingnumpygods/Anchor/bandit.py:102: RuntimeWarning: divide by zero encountered in double_scalars\n",
      "  ub[f] = KL_LUCB.dup_bernoulli(means[f], beta / candidates[f].n_samples)\n",
      "INFO:0.5142245361258899\n",
      "/home/kevin/iml-ws21-projects-risingnumpygods/Anchor/bandit.py:102: RuntimeWarning: divide by zero encountered in double_scalars\n",
      "  ub[f] = KL_LUCB.dup_bernoulli(means[f], beta / candidates[f].n_samples)\n",
      "INFO:0.4780126935241644\n",
      "/home/kevin/iml-ws21-projects-risingnumpygods/Anchor/bandit.py:102: RuntimeWarning: divide by zero encountered in double_scalars\n",
      "  ub[f] = KL_LUCB.dup_bernoulli(means[f], beta / candidates[f].n_samples)\n",
      "INFO:0.46466746196922526\n",
      "/home/kevin/iml-ws21-projects-risingnumpygods/Anchor/bandit.py:102: RuntimeWarning: divide by zero encountered in double_scalars\n",
      "  ub[f] = KL_LUCB.dup_bernoulli(means[f], beta / candidates[f].n_samples)\n",
      "INFO:0.566854903162437\n",
      "/home/kevin/iml-ws21-projects-risingnumpygods/Anchor/bandit.py:102: RuntimeWarning: divide by zero encountered in double_scalars\n",
      "  ub[f] = KL_LUCB.dup_bernoulli(means[f], beta / candidates[f].n_samples)\n",
      "INFO:0.4425205745465547\n",
      "INFO:0.3036160947451324\n",
      "INFO:0.28436054133612154\n",
      "INFO:0.24169382183356425\n",
      "INFO:0.22520585086962208\n",
      "INFO:0.21575868469001647\n",
      "INFO:0.21938100475104927\n",
      "INFO:0.20457306382145157\n",
      "INFO:0.20064854896810147\n",
      "INFO:0.19428948032548787\n",
      "INFO:0.18734395444461416\n",
      "INFO:0.1830544012458062\n",
      "INFO:0.18469223794930856\n",
      "INFO:0.18000521497009014\n",
      "INFO:0.1760770128414696\n",
      "INFO:0.17258085738169537\n",
      "INFO:0.168180405952288\n",
      "INFO:0.20095892470117938\n",
      "INFO:0.15500017905006835\n",
      "INFO:0.1473446601216537\n",
      "INFO:0.1461969655860671\n",
      "INFO:0.141235089111845\n",
      "INFO:0.13944673213336178\n",
      "INFO:0.13701019970398176\n",
      "INFO:0.1369942400838352\n",
      "INFO:0.1773166248152226\n",
      "INFO:0.16459486183788363\n",
      "INFO:0.13327136607594547\n",
      "INFO:0.1280686659538316\n",
      "INFO:0.1272013392745993\n",
      "INFO:0.12335887157131442\n",
      "INFO:0.12118763476080752\n",
      "INFO:0.12015818398589173\n",
      "INFO:0.14301638101211211\n",
      "INFO:0.13593134848532418\n",
      "INFO:0.12833371385072345\n",
      "INFO:0.12172502252157791\n",
      "INFO:0.12118147179225236\n",
      "INFO:0.11663682560419109\n",
      "INFO:0.1084764135667069\n",
      "INFO:0.10696660684692938\n",
      "INFO:0.10965948140633064\n",
      "INFO:0.10020936641414979\n",
      "INFO:0.10010127176543893\n",
      "INFO:0.10292669483803696\n",
      "INFO:0.10674926087693948\n",
      "INFO:0.1006362584835\n"
     ]
    },
    {
     "name": "stdout",
     "output_type": "stream",
     "text": [
      "0.6571389145954316 0.6911268783968665\n"
     ]
    },
    {
     "name": "stderr",
     "output_type": "stream",
     "text": [
      "INFO:[AnchorCandidate(_feature_mask=[2, 10, 0], _precision=0, _n_samples=0, _positive_samples=0, _coverage=0.4671), AnchorCandidate(_feature_mask=[2, 10, 3], _precision=0, _n_samples=0, _positive_samples=0, _coverage=0.2842), AnchorCandidate(_feature_mask=[2, 10, 4], _precision=0, _n_samples=0, _positive_samples=0, _coverage=0.5414), AnchorCandidate(_feature_mask=[2, 10, 5], _precision=0, _n_samples=0, _positive_samples=0, _coverage=0.3338)]\n",
      "/home/kevin/iml-ws21-projects-risingnumpygods/Anchor/bandit.py:100: RuntimeWarning: divide by zero encountered in double_scalars\n",
      "  lb[f] = KL_LUCB.dlow_bernoulli(means[f], beta / candidates[f].n_samples)\n",
      "/home/kevin/iml-ws21-projects-risingnumpygods/Anchor/bandit.py:102: RuntimeWarning: divide by zero encountered in double_scalars\n",
      "  ub[f] = KL_LUCB.dup_bernoulli(means[f], beta / candidates[f].n_samples)\n",
      "INFO:1.0\n",
      "/home/kevin/iml-ws21-projects-risingnumpygods/Anchor/bandit.py:102: RuntimeWarning: divide by zero encountered in double_scalars\n",
      "  ub[f] = KL_LUCB.dup_bernoulli(means[f], beta / candidates[f].n_samples)\n",
      "INFO:0.4972092460670746\n",
      "/home/kevin/iml-ws21-projects-risingnumpygods/Anchor/bandit.py:102: RuntimeWarning: divide by zero encountered in double_scalars\n",
      "  ub[f] = KL_LUCB.dup_bernoulli(means[f], beta / candidates[f].n_samples)\n",
      "INFO:0.5020938264986186\n",
      "INFO:0.22290872841787368\n",
      "INFO:0.14677647837130015\n",
      "INFO:0.11736691550792755\n",
      "INFO:0.11940996734760434\n"
     ]
    },
    {
     "name": "stdout",
     "output_type": "stream",
     "text": [
      "0.7900958604923445 0.8565866601655405\n"
     ]
    },
    {
     "name": "stderr",
     "output_type": "stream",
     "text": [
      "INFO:[AnchorCandidate(_feature_mask=[2, 10, 3, 0], _precision=0, _n_samples=0, _positive_samples=0, _coverage=0.2313), AnchorCandidate(_feature_mask=[2, 10, 3, 4], _precision=0, _n_samples=0, _positive_samples=0, _coverage=0.2573), AnchorCandidate(_feature_mask=[2, 10, 3, 5], _precision=0, _n_samples=0, _positive_samples=0, _coverage=0.2842)]\n",
      "/home/kevin/iml-ws21-projects-risingnumpygods/Anchor/bandit.py:100: RuntimeWarning: divide by zero encountered in double_scalars\n",
      "  lb[f] = KL_LUCB.dlow_bernoulli(means[f], beta / candidates[f].n_samples)\n",
      "/home/kevin/iml-ws21-projects-risingnumpygods/Anchor/bandit.py:102: RuntimeWarning: divide by zero encountered in double_scalars\n",
      "  ub[f] = KL_LUCB.dup_bernoulli(means[f], beta / candidates[f].n_samples)\n",
      "INFO:1.0\n",
      "/home/kevin/iml-ws21-projects-risingnumpygods/Anchor/bandit.py:102: RuntimeWarning: divide by zero encountered in double_scalars\n",
      "  ub[f] = KL_LUCB.dup_bernoulli(means[f], beta / candidates[f].n_samples)\n",
      "INFO:0.2795858803780332\n",
      "INFO:0.2036444188405634\n",
      "INFO:0.17423108591391656\n",
      "INFO:0.14499917520690275\n",
      "INFO:0.13243429914489302\n",
      "INFO:0.11558415659933508\n",
      "INFO:0.10905794448619677\n",
      "INFO:0.10686924790114516\n",
      "INFO:0.10384943804534974\n"
     ]
    },
    {
     "name": "stdout",
     "output_type": "stream",
     "text": [
      "0.8578692020146437 0.9017952633771198\n"
     ]
    },
    {
     "name": "stderr",
     "output_type": "stream",
     "text": [
      "INFO:[AnchorCandidate(_feature_mask=[2, 10, 3, 0, 4], _precision=0, _n_samples=0, _positive_samples=0, _coverage=0.2081), AnchorCandidate(_feature_mask=[2, 10, 3, 0, 5], _precision=0, _n_samples=0, _positive_samples=0, _coverage=0.2313)]\n",
      "/home/kevin/iml-ws21-projects-risingnumpygods/Anchor/bandit.py:100: RuntimeWarning: divide by zero encountered in double_scalars\n",
      "  lb[f] = KL_LUCB.dlow_bernoulli(means[f], beta / candidates[f].n_samples)\n",
      "/home/kevin/iml-ws21-projects-risingnumpygods/Anchor/bandit.py:102: RuntimeWarning: divide by zero encountered in double_scalars\n",
      "  ub[f] = KL_LUCB.dup_bernoulli(means[f], beta / candidates[f].n_samples)\n",
      "INFO:1.0\n",
      "INFO:0.2048106386264894\n",
      "INFO:0.10318009425925567\n"
     ]
    },
    {
     "name": "stdout",
     "output_type": "stream",
     "text": [
      "0.8703837771313478 0.941274795408015\n"
     ]
    },
    {
     "name": "stderr",
     "output_type": "stream",
     "text": [
      "INFO:[AnchorCandidate(_feature_mask=[2, 10, 3, 0, 5, 4], _precision=0, _n_samples=0, _positive_samples=0, _coverage=0.2081)]\n",
      "/home/kevin/iml-ws21-projects-risingnumpygods/Anchor/bandit.py:100: RuntimeWarning: divide by zero encountered in double_scalars\n",
      "  lb[f] = KL_LUCB.dlow_bernoulli(means[f], beta / candidates[f].n_samples)\n"
     ]
    },
    {
     "ename": "ValueError",
     "evalue": "attempt to get argmax of an empty sequence",
     "output_type": "error",
     "traceback": [
      "\u001b[0;31m---------------------------------------------------------------------------\u001b[0m",
      "\u001b[0;31mValueError\u001b[0m                                Traceback (most recent call last)",
      "Input \u001b[0;32mIn [7]\u001b[0m, in \u001b[0;36m<module>\u001b[0;34m\u001b[0m\n\u001b[1;32m      6\u001b[0m \u001b[38;5;28;01mfrom\u001b[39;00m \u001b[38;5;21;01mAnchor\u001b[39;00m\u001b[38;5;21;01m.\u001b[39;00m\u001b[38;5;21;01manchor\u001b[39;00m \u001b[38;5;28;01mimport\u001b[39;00m Anchor, Tasktype\n\u001b[1;32m      8\u001b[0m explainer \u001b[38;5;241m=\u001b[39m Anchor(Tasktype\u001b[38;5;241m.\u001b[39mTABULAR)\n\u001b[0;32m---> 10\u001b[0m anchor, segments \u001b[38;5;241m=\u001b[39m \u001b[43mexplainer\u001b[49m\u001b[38;5;241;43m.\u001b[39;49m\u001b[43mexplain_instance\u001b[49m\u001b[43m(\u001b[49m\u001b[43mdataset\u001b[49m\u001b[38;5;241;43m.\u001b[39;49m\u001b[43mtest\u001b[49m\u001b[43m[\u001b[49m\u001b[43midx\u001b[49m\u001b[43m]\u001b[49m\u001b[38;5;241;43m.\u001b[39;49m\u001b[43mreshape\u001b[49m\u001b[43m(\u001b[49m\u001b[38;5;241;43m1\u001b[39;49m\u001b[43m,\u001b[49m\u001b[43m \u001b[49m\u001b[38;5;241;43m-\u001b[39;49m\u001b[38;5;241;43m1\u001b[39;49m\u001b[43m)\u001b[49m\u001b[43m,\u001b[49m\u001b[43m \u001b[49m\u001b[43mdataset\u001b[49m\u001b[38;5;241;43m.\u001b[39;49m\u001b[43mtrain\u001b[49m\u001b[43m,\u001b[49m\u001b[43m \u001b[49m\u001b[43mc\u001b[49m\u001b[38;5;241;43m.\u001b[39;49m\u001b[43mpredict\u001b[49m\u001b[43m,\u001b[49m\u001b[43m \u001b[49m\u001b[38;5;124;43m\"\u001b[39;49m\u001b[38;5;124;43mgreedy\u001b[39;49m\u001b[38;5;124;43m\"\u001b[39;49m\u001b[43m,\u001b[49m\u001b[43m \u001b[49m\u001b[38;5;241;43m10000\u001b[39;49m\u001b[43m)\u001b[49m\n",
      "File \u001b[0;32m~/iml-ws21-projects-risingnumpygods/Anchor/anchor.py:50\u001b[0m, in \u001b[0;36mAnchor.explain_instance\u001b[0;34m(self, input, dataset, predict_fn, method, num_coverage_samples)\u001b[0m\n\u001b[1;32m     48\u001b[0m \u001b[38;5;28;01mif\u001b[39;00m method \u001b[38;5;241m==\u001b[39m \u001b[38;5;124m\"\u001b[39m\u001b[38;5;124mgreedy\u001b[39m\u001b[38;5;124m\"\u001b[39m:\n\u001b[1;32m     49\u001b[0m     logging\u001b[38;5;241m.\u001b[39minfo(\u001b[38;5;124m\"\u001b[39m\u001b[38;5;124m Start Greedy Search\u001b[39m\u001b[38;5;124m\"\u001b[39m)\n\u001b[0;32m---> 50\u001b[0m     exp \u001b[38;5;241m=\u001b[39m \u001b[38;5;28;43mself\u001b[39;49m\u001b[38;5;241;43m.\u001b[39;49m\u001b[43m__greedy_anchor\u001b[49m\u001b[43m(\u001b[49m\u001b[43m)\u001b[49m\n\u001b[1;32m     51\u001b[0m \u001b[38;5;28;01melif\u001b[39;00m method \u001b[38;5;241m==\u001b[39m \u001b[38;5;124m\"\u001b[39m\u001b[38;5;124mbeam\u001b[39m\u001b[38;5;124m\"\u001b[39m:\n\u001b[1;32m     52\u001b[0m     logging\u001b[38;5;241m.\u001b[39minfo(\u001b[38;5;124m\"\u001b[39m\u001b[38;5;124m Start Beam Search\u001b[39m\u001b[38;5;124m\"\u001b[39m)\n",
      "File \u001b[0;32m~/iml-ws21-projects-risingnumpygods/Anchor/anchor.py:141\u001b[0m, in \u001b[0;36mAnchor.__greedy_anchor\u001b[0;34m(self, desired_confidence, epsilon, batch_size, min_coverage)\u001b[0m\n\u001b[1;32m    139\u001b[0m     candidates \u001b[38;5;241m=\u001b[39m \u001b[38;5;28mself\u001b[39m\u001b[38;5;241m.\u001b[39mgenerate_candidates([anchor], min_coverage)\n\u001b[1;32m    140\u001b[0m     logging\u001b[38;5;241m.\u001b[39minfo(candidates)\n\u001b[0;32m--> 141\u001b[0m     anchor \u001b[38;5;241m=\u001b[39m \u001b[38;5;28;43mself\u001b[39;49m\u001b[38;5;241;43m.\u001b[39;49m\u001b[43mkl_lucb\u001b[49m\u001b[38;5;241;43m.\u001b[39;49m\u001b[43mget_best_candidates\u001b[49m\u001b[43m(\u001b[49m\u001b[43mcandidates\u001b[49m\u001b[43m,\u001b[49m\u001b[43m \u001b[49m\u001b[38;5;28;43mself\u001b[39;49m\u001b[38;5;241;43m.\u001b[39;49m\u001b[43msampler\u001b[49m\u001b[43m,\u001b[49m\u001b[43m \u001b[49m\u001b[38;5;241;43m1\u001b[39;49m\u001b[43m)\u001b[49m[\u001b[38;5;241m0\u001b[39m]\n\u001b[1;32m    143\u001b[0m logging\u001b[38;5;241m.\u001b[39minfo(anchor)\n\u001b[1;32m    144\u001b[0m \u001b[38;5;28;01mreturn\u001b[39;00m anchor\n",
      "File \u001b[0;32m~/iml-ws21-projects-risingnumpygods/Anchor/bandit.py:48\u001b[0m, in \u001b[0;36mKL_LUCB.get_best_candidates\u001b[0;34m(self, candidates, sampler, top_n)\u001b[0m\n\u001b[1;32m     45\u001b[0m prec_ub \u001b[38;5;241m=\u001b[39m np\u001b[38;5;241m.\u001b[39mzeros(\u001b[38;5;28mlen\u001b[39m(candidates))\n\u001b[1;32m     46\u001b[0m prec_lb \u001b[38;5;241m=\u001b[39m np\u001b[38;5;241m.\u001b[39mzeros(\u001b[38;5;28mlen\u001b[39m(candidates))\n\u001b[0;32m---> 48\u001b[0m lt, ut, prec_lb, prec_ub \u001b[38;5;241m=\u001b[39m \u001b[38;5;28;43mself\u001b[39;49m\u001b[38;5;241;43m.\u001b[39;49m\u001b[43m__update_bounds\u001b[49m\u001b[43m(\u001b[49m\n\u001b[1;32m     49\u001b[0m \u001b[43m    \u001b[49m\u001b[43mcandidates\u001b[49m\u001b[43m,\u001b[49m\u001b[43m \u001b[49m\u001b[43mprec_lb\u001b[49m\u001b[43m,\u001b[49m\u001b[43m \u001b[49m\u001b[43mprec_ub\u001b[49m\u001b[43m,\u001b[49m\u001b[43m \u001b[49m\u001b[43mt\u001b[49m\u001b[43m,\u001b[49m\u001b[43m \u001b[49m\u001b[43mtop_n\u001b[49m\n\u001b[1;32m     50\u001b[0m \u001b[43m\u001b[49m\u001b[43m)\u001b[49m\n\u001b[1;32m     51\u001b[0m prec_diff \u001b[38;5;241m=\u001b[39m prec_ub[ut] \u001b[38;5;241m-\u001b[39m prec_lb[lt]\n\u001b[1;32m     52\u001b[0m \u001b[38;5;28;01mwhile\u001b[39;00m prec_diff \u001b[38;5;241m>\u001b[39m \u001b[38;5;28mself\u001b[39m\u001b[38;5;241m.\u001b[39meps:\n",
      "File \u001b[0;32m~/iml-ws21-projects-risingnumpygods/Anchor/bandit.py:105\u001b[0m, in \u001b[0;36mKL_LUCB.__update_bounds\u001b[0;34m(self, candidates, lb, ub, t, top_n)\u001b[0m\n\u001b[1;32m    101\u001b[0m \u001b[38;5;28;01mfor\u001b[39;00m f \u001b[38;5;129;01min\u001b[39;00m nj:\n\u001b[1;32m    102\u001b[0m     ub[f] \u001b[38;5;241m=\u001b[39m KL_LUCB\u001b[38;5;241m.\u001b[39mdup_bernoulli(means[f], beta \u001b[38;5;241m/\u001b[39m candidates[f]\u001b[38;5;241m.\u001b[39mn_samples)\n\u001b[1;32m    104\u001b[0m ut \u001b[38;5;241m=\u001b[39m nj[\n\u001b[0;32m--> 105\u001b[0m     \u001b[43mnp\u001b[49m\u001b[38;5;241;43m.\u001b[39;49m\u001b[43margmax\u001b[49m\u001b[43m(\u001b[49m\u001b[43mub\u001b[49m\u001b[43m[\u001b[49m\u001b[43mnj\u001b[49m\u001b[43m]\u001b[49m\u001b[43m)\u001b[49m\n\u001b[1;32m    106\u001b[0m ]  \u001b[38;5;66;03m# candidate where upper bound of candidate is maximal\u001b[39;00m\n\u001b[1;32m    107\u001b[0m lt \u001b[38;5;241m=\u001b[39m j[\n\u001b[1;32m    108\u001b[0m     np\u001b[38;5;241m.\u001b[39margmin(lb[j])\n\u001b[1;32m    109\u001b[0m ]  \u001b[38;5;66;03m# # candidate where lower bound of candidate is minimal\u001b[39;00m\n\u001b[1;32m    111\u001b[0m \u001b[38;5;28;01mreturn\u001b[39;00m lt, ut, lb, ub\n",
      "File \u001b[0;32m<__array_function__ internals>:5\u001b[0m, in \u001b[0;36margmax\u001b[0;34m(*args, **kwargs)\u001b[0m\n",
      "File \u001b[0;32m~/miniconda3/envs/iML/lib/python3.9/site-packages/numpy/core/fromnumeric.py:1195\u001b[0m, in \u001b[0;36margmax\u001b[0;34m(a, axis, out)\u001b[0m\n\u001b[1;32m   1121\u001b[0m \u001b[38;5;129m@array_function_dispatch\u001b[39m(_argmax_dispatcher)\n\u001b[1;32m   1122\u001b[0m \u001b[38;5;28;01mdef\u001b[39;00m \u001b[38;5;21margmax\u001b[39m(a, axis\u001b[38;5;241m=\u001b[39m\u001b[38;5;28;01mNone\u001b[39;00m, out\u001b[38;5;241m=\u001b[39m\u001b[38;5;28;01mNone\u001b[39;00m):\n\u001b[1;32m   1123\u001b[0m     \u001b[38;5;124;03m\"\"\"\u001b[39;00m\n\u001b[1;32m   1124\u001b[0m \u001b[38;5;124;03m    Returns the indices of the maximum values along an axis.\u001b[39;00m\n\u001b[1;32m   1125\u001b[0m \n\u001b[0;32m   (...)\u001b[0m\n\u001b[1;32m   1193\u001b[0m \n\u001b[1;32m   1194\u001b[0m \u001b[38;5;124;03m    \"\"\"\u001b[39;00m\n\u001b[0;32m-> 1195\u001b[0m     \u001b[38;5;28;01mreturn\u001b[39;00m \u001b[43m_wrapfunc\u001b[49m\u001b[43m(\u001b[49m\u001b[43ma\u001b[49m\u001b[43m,\u001b[49m\u001b[43m \u001b[49m\u001b[38;5;124;43m'\u001b[39;49m\u001b[38;5;124;43margmax\u001b[39;49m\u001b[38;5;124;43m'\u001b[39;49m\u001b[43m,\u001b[49m\u001b[43m \u001b[49m\u001b[43maxis\u001b[49m\u001b[38;5;241;43m=\u001b[39;49m\u001b[43maxis\u001b[49m\u001b[43m,\u001b[49m\u001b[43m \u001b[49m\u001b[43mout\u001b[49m\u001b[38;5;241;43m=\u001b[39;49m\u001b[43mout\u001b[49m\u001b[43m)\u001b[49m\n",
      "File \u001b[0;32m~/miniconda3/envs/iML/lib/python3.9/site-packages/numpy/core/fromnumeric.py:57\u001b[0m, in \u001b[0;36m_wrapfunc\u001b[0;34m(obj, method, *args, **kwds)\u001b[0m\n\u001b[1;32m     54\u001b[0m     \u001b[38;5;28;01mreturn\u001b[39;00m _wrapit(obj, method, \u001b[38;5;241m*\u001b[39margs, \u001b[38;5;241m*\u001b[39m\u001b[38;5;241m*\u001b[39mkwds)\n\u001b[1;32m     56\u001b[0m \u001b[38;5;28;01mtry\u001b[39;00m:\n\u001b[0;32m---> 57\u001b[0m     \u001b[38;5;28;01mreturn\u001b[39;00m \u001b[43mbound\u001b[49m\u001b[43m(\u001b[49m\u001b[38;5;241;43m*\u001b[39;49m\u001b[43margs\u001b[49m\u001b[43m,\u001b[49m\u001b[43m \u001b[49m\u001b[38;5;241;43m*\u001b[39;49m\u001b[38;5;241;43m*\u001b[39;49m\u001b[43mkwds\u001b[49m\u001b[43m)\u001b[49m\n\u001b[1;32m     58\u001b[0m \u001b[38;5;28;01mexcept\u001b[39;00m \u001b[38;5;167;01mTypeError\u001b[39;00m:\n\u001b[1;32m     59\u001b[0m     \u001b[38;5;66;03m# A TypeError occurs if the object does have such a method in its\u001b[39;00m\n\u001b[1;32m     60\u001b[0m     \u001b[38;5;66;03m# class, but its signature is not identical to that of NumPy's. This\u001b[39;00m\n\u001b[0;32m   (...)\u001b[0m\n\u001b[1;32m     64\u001b[0m     \u001b[38;5;66;03m# Call _wrapit from within the except clause to ensure a potential\u001b[39;00m\n\u001b[1;32m     65\u001b[0m     \u001b[38;5;66;03m# exception has a traceback chain.\u001b[39;00m\n\u001b[1;32m     66\u001b[0m     \u001b[38;5;28;01mreturn\u001b[39;00m _wrapit(obj, method, \u001b[38;5;241m*\u001b[39margs, \u001b[38;5;241m*\u001b[39m\u001b[38;5;241m*\u001b[39mkwds)\n",
      "\u001b[0;31mValueError\u001b[0m: attempt to get argmax of an empty sequence"
     ]
    }
   ],
   "source": [
    "import os\n",
    "import sys\n",
    "module_path = os.path.abspath(os.path.join('..'))\n",
    "if module_path not in sys.path:\n",
    "    sys.path.append(module_path)\n",
    "from Anchor.anchor import Anchor, Tasktype\n",
    "\n",
    "explainer = Anchor(Tasktype.TABULAR)\n",
    "\n",
    "anchor, segments = explainer.explain_instance(dataset.test[idx].reshape(1, -1), dataset.train, c.predict, \"beam\", 10000)"
   ]
  },
  {
   "cell_type": "code",
   "execution_count": null,
   "metadata": {},
   "outputs": [
    {
     "data": {
      "text/plain": [
       "AnchorCandidate(_feature_mask=[3, 2, 4, 5, 6, 1, 0], _precision=1.0, _n_samples=200, _positive_samples=200, _coverage=0.015)"
      ]
     },
     "execution_count": 10,
     "metadata": {},
     "output_type": "execute_result"
    }
   ],
   "source": [
    "anchor "
   ]
  }
 ],
 "metadata": {
  "interpreter": {
   "hash": "1ee014a394539ea33a681f57bab852aba5460f711bf7a82fe5b61ba0c6bc8483"
  },
  "kernelspec": {
   "display_name": "Python 3.9.7 64-bit ('iML': conda)",
   "language": "python",
   "name": "python3"
  },
  "language_info": {
   "codemirror_mode": {
    "name": "ipython",
    "version": 3
   },
   "file_extension": ".py",
   "mimetype": "text/x-python",
   "name": "python",
   "nbconvert_exporter": "python",
   "pygments_lexer": "ipython3",
   "version": "3.9.7"
  },
  "orig_nbformat": 4
 },
 "nbformat": 4,
 "nbformat_minor": 2
}
