{
 "cells": [
  {
   "cell_type": "code",
   "execution_count": 1,
   "metadata": {},
   "outputs": [],
   "source": [
    "import numpy as np\n",
    "import sklearn\n",
    "import sklearn.ensemble\n",
    "%load_ext autoreload\n",
    "%autoreload 2"
   ]
  },
  {
   "cell_type": "code",
   "execution_count": 2,
   "metadata": {},
   "outputs": [],
   "source": [
    "data = np.genfromtxt('../datasets/titanic.txt', delimiter=',')\n",
    "y_train = data[:, -1]\n",
    "X_train = data[:, :-1]\n"
   ]
  },
  {
   "cell_type": "code",
   "execution_count": 3,
   "metadata": {},
   "outputs": [
    {
     "name": "stderr",
     "output_type": "stream",
     "text": [
      "INFO:root: Start Sampling\n",
      "INFO:root: Start Beam Search\n"
     ]
    },
    {
     "name": "stdout",
     "output_type": "stream",
     "text": [
      "Train 1.0\n"
     ]
    }
   ],
   "source": [
    "import os\n",
    "import sys\n",
    "module_path = os.path.abspath(os.path.join('..'))\n",
    "if module_path not in sys.path:\n",
    "    sys.path.append(module_path)\n",
    "from Anchor.anchor import Anchor, Tasktype\n",
    "\n",
    "c = sklearn.ensemble.RandomForestClassifier(n_estimators=100, n_jobs=5, random_state=123)\n",
    "c.fit(X_train, y_train)\n",
    "print('Train', sklearn.metrics.accuracy_score(y_train, c.predict(X_train)))\n",
    "\n",
    "explainer = Anchor(Tasktype.TABULAR)\n",
    "\n",
    "task_paras = {\"dataset\": X_train, \"column_names\": [\"PcClass\", \"Name\", \"Sex\", \"Age\", \"SibSp\", \"Parch\", \"Ticket\", \"Fare\", \"Cabin\", \"Embarked\"]}\n",
    "method_paras = {\"beam_size\": 1, \"desired_confidence\": 1.0}\n",
    "anchor = explainer.explain_instance(\n",
    "    input=X_train[759].reshape(1, -1),\n",
    "    predict_fn=c.predict,\n",
    "    method=\"beam\",\n",
    "    task_specific=task_paras,\n",
    "    method_specific=method_paras,\n",
    "    num_coverage_samples=100,\n",
    ")"
   ]
  },
  {
   "cell_type": "code",
   "execution_count": 4,
   "metadata": {},
   "outputs": [
    {
     "data": {
      "text/plain": [
       "AnchorCandidate(feature_mask=[2, 0], precision=1.0, n_samples=160, positive_samples=160, coverage=0.54)"
      ]
     },
     "execution_count": 4,
     "metadata": {},
     "output_type": "execute_result"
    }
   ],
   "source": [
    "anchor"
   ]
  },
  {
   "cell_type": "code",
   "execution_count": 5,
   "metadata": {},
   "outputs": [
    {
     "name": "stdout",
     "output_type": "stream",
     "text": [
      "PcClass = 1.0 AND Sex = 1.0\n"
     ]
    }
   ],
   "source": [
    "visu = explainer.visualize(anchor, X_train[759])\n",
    "print(visu)"
   ]
  },
  {
   "cell_type": "markdown",
   "metadata": {},
   "source": [
    "iAnchor expects the tabular dataset to be discretized. This can be done with the lime package as can be seen in the hyperparam notebook. When using said package one could easily convert the discretized back to the undiscretized values (see [lime.discretize module](https://lime-ml.readthedocs.io/en/latest/lime.html))."
   ]
  }
 ],
 "metadata": {
  "interpreter": {
   "hash": "1ee014a394539ea33a681f57bab852aba5460f711bf7a82fe5b61ba0c6bc8483"
  },
  "kernelspec": {
   "display_name": "Python 3.9.7 64-bit ('iML': conda)",
   "language": "python",
   "name": "python3"
  },
  "language_info": {
   "codemirror_mode": {
    "name": "ipython",
    "version": 3
   },
   "file_extension": ".py",
   "mimetype": "text/x-python",
   "name": "python",
   "nbconvert_exporter": "python",
   "pygments_lexer": "ipython3",
   "version": "3.9.7"
  },
  "orig_nbformat": 4
 },
 "nbformat": 4,
 "nbformat_minor": 2
}
