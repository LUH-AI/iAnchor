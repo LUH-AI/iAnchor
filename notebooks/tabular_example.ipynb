{
 "cells": [
  {
   "cell_type": "code",
   "execution_count": 1,
   "metadata": {},
   "outputs": [],
   "source": [
    "import numpy as np\n",
    "import lime\n",
    "import sklearn\n",
    "import sklearn.ensemble\n",
    "import numpy as np\n",
    "%load_ext autoreload\n",
    "%autoreload 2"
   ]
  },
  {
   "cell_type": "code",
   "execution_count": 2,
   "metadata": {},
   "outputs": [],
   "source": [
    "import numpy as np\n",
    "\n",
    "data = np.genfromtxt('../datasets/titanic.txt', delimiter=',')\n",
    "y_train = data[:, -1]\n",
    "X_train = data[:, :-1]\n"
   ]
  },
  {
   "cell_type": "code",
   "execution_count": 3,
   "metadata": {},
   "outputs": [
    {
     "name": "stderr",
     "output_type": "stream",
     "text": [
      "INFO:root: Start Sampling\n",
      "INFO:root: Start Beam Search\n"
     ]
    },
    {
     "name": "stdout",
     "output_type": "stream",
     "text": [
      "Train 1.0\n",
      "eps 0.15\n",
      "while loop 0.9999977052211761\n",
      "while loop 0.9326510280370712\n",
      "while loop 0.9718704614788294\n",
      "while loop 0.8528023348855043\n",
      "while loop 0.7678715827327369\n",
      "while loop 0.7164411779089231\n",
      "while loop 0.6814010518550188\n",
      "while loop 0.6555929258231401\n",
      "while loop 0.6154776124269816\n",
      "while loop 0.570395396169485\n",
      "while loop 0.5392113419804956\n",
      "while loop 0.5316683633522535\n",
      "while loop 0.4888427021794677\n",
      "while loop 0.4578831743793758\n",
      "while loop 0.41870573842436754\n",
      "while loop 0.38721905584633665\n",
      "while loop 0.3710118957844313\n",
      "while loop 0.35739375194222334\n",
      "while loop 0.3393678432294178\n",
      "while loop 0.3481742795248963\n",
      "while loop 0.3373978613630262\n",
      "while loop 0.32630102135214756\n",
      "while loop 0.3088763702526939\n",
      "while loop 0.3025558986773029\n",
      "while loop 0.2718356883773362\n",
      "while loop 0.26347364340825674\n",
      "while loop 0.2708969737157273\n",
      "while loop 0.2684829131651868\n",
      "while loop 0.25791421811629955\n",
      "while loop 0.25309398230921476\n",
      "while loop 0.24416217529435824\n",
      "while loop 0.21111028740605986\n",
      "while loop 0.2150651344744834\n",
      "while loop 0.20750233564163\n",
      "while loop 0.20160993240008707\n",
      "while loop 0.1886155835850154\n",
      "while loop 0.1901108644001177\n",
      "while loop 0.1942536126959049\n",
      "while loop 0.1853312862901899\n",
      "while loop 0.18221832972377638\n",
      "while loop 0.19878266388375487\n",
      "while loop 0.17142770897089077\n",
      "while loop 0.17264927960649823\n",
      "while loop 0.16968250531740792\n",
      "while loop 0.167011842829899\n",
      "while loop 0.15920580630669856\n",
      "while loop 0.15358616877926645\n",
      "while loop 0.15234465056344404\n",
      "while loop 0.15017774426635433\n",
      "while loop 0.15303976247266327\n",
      "return\n",
      "Included samples 54\n",
      "Included samples 70\n",
      "Included samples 42\n",
      "Included samples 19\n",
      "Included samples 14\n",
      "Included samples 70\n",
      "Included samples 47\n",
      "Included samples 56\n",
      "Included samples 19\n",
      "eps 0.15\n",
      "while loop 0.9999974071979523\n",
      "while loop 0.5749629477189561\n",
      "while loop 0.3578547452123624\n",
      "while loop 0.2609886348107\n",
      "while loop 0.2062465712092747\n",
      "while loop 0.17096708787149428\n",
      "return\n",
      "Included samples 54\n",
      "Included samples 36\n",
      "Included samples 14\n",
      "Included samples 9\n",
      "Included samples 54\n",
      "Included samples 43\n",
      "Included samples 53\n",
      "Included samples 13\n",
      "eps 0.15\n",
      "while loop 0.999986320734024\n",
      "while loop 0.5288702292420016\n",
      "while loop 0.32405573461274406\n",
      "while loop 0.2353408420281471\n",
      "while loop 0.18571046502809896\n",
      "while loop 0.15387565392887415\n",
      "return\n",
      "Included samples 54\n",
      "Included samples 36\n",
      "Included samples 14\n",
      "Included samples 9\n",
      "Included samples 43\n",
      "Included samples 53\n",
      "Included samples 13\n",
      "eps 0.15\n",
      "return\n",
      "Included samples 36\n",
      "Included samples 14\n",
      "Included samples 9\n",
      "Included samples 43\n",
      "Included samples 53\n",
      "Included samples 13\n"
     ]
    }
   ],
   "source": [
    "import os\n",
    "import sys\n",
    "module_path = os.path.abspath(os.path.join('..'))\n",
    "if module_path not in sys.path:\n",
    "    sys.path.append(module_path)\n",
    "from Anchor.anchor import Anchor, Tasktype\n",
    "\n",
    "c = sklearn.ensemble.RandomForestClassifier(n_estimators=100, n_jobs=5, random_state=123)\n",
    "c.fit(X_train, y_train)\n",
    "print('Train', sklearn.metrics.accuracy_score(y_train, c.predict(X_train)))\n",
    "\n",
    "explainer = Anchor(Tasktype.TABULAR)\n",
    "\n",
    "task_paras = {\"dataset\": X_train, \"column_names\": [\"PcClass\", \"Name\", \"Sex\", \"Age\", \"SibSp\", \"Parch\", \"Ticket\", \"Fare\", \"Cabin\", \"Embarked\"]}\n",
    "method_paras = {\"beam_size\": 1, \"desired_confidence\": 1.0}\n",
    "anchor = explainer.explain_instance(\n",
    "    input=X_train[759].reshape(1, -1),\n",
    "    predict_fn=c.predict,\n",
    "    method=\"beam\",\n",
    "    task_specific=task_paras,\n",
    "    method_specific=method_paras,\n",
    "    num_coverage_samples=100,\n",
    ")"
   ]
  },
  {
   "cell_type": "code",
   "execution_count": 6,
   "metadata": {},
   "outputs": [
    {
     "data": {
      "text/plain": [
       "AnchorCandidate(feature_mask=[2, 0], precision=1.0, n_samples=96, positive_samples=96, coverage=0.54)"
      ]
     },
     "execution_count": 6,
     "metadata": {},
     "output_type": "execute_result"
    }
   ],
   "source": [
    "anchor"
   ]
  },
  {
   "cell_type": "code",
   "execution_count": 7,
   "metadata": {},
   "outputs": [
    {
     "name": "stdout",
     "output_type": "stream",
     "text": [
      "PcClass = 1.0 AND Sex = 1.0\n"
     ]
    }
   ],
   "source": [
    "visu = explainer.visualize(anchor, X_train[759])\n",
    "print(visu)"
   ]
  }
 ],
 "metadata": {
  "interpreter": {
   "hash": "1ee014a394539ea33a681f57bab852aba5460f711bf7a82fe5b61ba0c6bc8483"
  },
  "kernelspec": {
   "display_name": "Python 3.9.7 64-bit ('iML': conda)",
   "language": "python",
   "name": "python3"
  },
  "language_info": {
   "codemirror_mode": {
    "name": "ipython",
    "version": 3
   },
   "file_extension": ".py",
   "mimetype": "text/x-python",
   "name": "python",
   "nbconvert_exporter": "python",
   "pygments_lexer": "ipython3",
   "version": "3.9.7"
  },
  "orig_nbformat": 4
 },
 "nbformat": 4,
 "nbformat_minor": 2
}
