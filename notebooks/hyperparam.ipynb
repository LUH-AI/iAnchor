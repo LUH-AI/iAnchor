{
 "cells": [
  {
   "cell_type": "code",
   "execution_count": 3,
   "metadata": {},
   "outputs": [],
   "source": [
    "# Used to normalize some features of the adult dataset\n",
    "# Taken from the orignal anchor implementation\n",
    "\n",
    "def map_array_values(array, value_map):\n",
    "    ret = array.copy()\n",
    "    for src, target in value_map.items():\n",
    "        ret[ret == src] = target\n",
    "    return ret\n",
    "\n",
    "def cap_gains_fn(x):\n",
    "    x = x.astype(float)\n",
    "    d = np.digitize(x, [0, np.median(x[x > 0]), float('inf')],\n",
    "                    right=True).astype('|S128')\n",
    "    return map_array_values(d, {'0': 'None', '1': 'Low', '2': 'High'})\n",
    "\n",
    "education_map = {\n",
    "    '10th': 'Dropout', '11th': 'Dropout', '12th': 'Dropout', '1st-4th':\n",
    "    'Dropout', '5th-6th': 'Dropout', '7th-8th': 'Dropout', '9th':\n",
    "    'Dropout', 'Preschool': 'Dropout', 'HS-grad': 'High School grad',\n",
    "    'Some-college': 'High School grad', 'Masters': 'Masters',\n",
    "    'Prof-school': 'Prof-School', 'Assoc-acdm': 'Associates',\n",
    "    'Assoc-voc': 'Associates',\n",
    "}\n",
    "\n",
    "occupation_map = {\n",
    "    \"Adm-clerical\": \"Admin\", \"Armed-Forces\": \"Military\",\n",
    "    \"Craft-repair\": \"Blue-Collar\", \"Exec-managerial\": \"White-Collar\",\n",
    "    \"Farming-fishing\": \"Blue-Collar\", \"Handlers-cleaners\":\n",
    "    \"Blue-Collar\", \"Machine-op-inspct\": \"Blue-Collar\", \"Other-service\":\n",
    "    \"Service\", \"Priv-house-serv\": \"Service\", \"Prof-specialty\":\n",
    "    \"Professional\", \"Protective-serv\": \"Other\", \"Sales\":\n",
    "    \"Sales\", \"Tech-support\": \"Other\", \"Transport-moving\":\n",
    "    \"Blue-Collar\",\n",
    "}\n",
    "\n",
    "country_map = {\n",
    "    'Cambodia': 'SE-Asia', 'Canada': 'British-Commonwealth', 'China':\n",
    "    'China', 'Columbia': 'South-America', 'Cuba': 'Other',\n",
    "    'Dominican-Republic': 'Latin-America', 'Ecuador': 'South-America',\n",
    "    'El-Salvador': 'South-America', 'England': 'British-Commonwealth',\n",
    "    'France': 'Euro_1', 'Germany': 'Euro_1', 'Greece': 'Euro_2',\n",
    "    'Guatemala': 'Latin-America', 'Haiti': 'Latin-America',\n",
    "    'Holand-Netherlands': 'Euro_1', 'Honduras': 'Latin-America',\n",
    "    'Hong': 'China', 'Hungary': 'Euro_2', 'India':\n",
    "    'British-Commonwealth', 'Iran': 'Other', 'Ireland':\n",
    "    'British-Commonwealth', 'Italy': 'Euro_1', 'Jamaica':\n",
    "    'Latin-America', 'Japan': 'Other', 'Laos': 'SE-Asia', 'Mexico':\n",
    "    'Latin-America', 'Nicaragua': 'Latin-America',\n",
    "    'Outlying-US(Guam-USVI-etc)': 'Latin-America', 'Peru':\n",
    "    'South-America', 'Philippines': 'SE-Asia', 'Poland': 'Euro_2',\n",
    "    'Portugal': 'Euro_2', 'Puerto-Rico': 'Latin-America', 'Scotland':\n",
    "    'British-Commonwealth', 'South': 'Euro_2', 'Taiwan': 'China',\n",
    "    'Thailand': 'SE-Asia', 'Trinadad&Tobago': 'Latin-America',\n",
    "    'United-States': 'United-States', 'Vietnam': 'SE-Asia'\n",
    "}\n",
    "\n",
    "married_map = {\n",
    "    'Never-married': 'Never-Married', 'Married-AF-spouse': 'Married',\n",
    "    'Married-civ-spouse': 'Married', 'Married-spouse-absent':\n",
    "    'Separated', 'Separated': 'Separated', 'Divorced':\n",
    "    'Separated', 'Widowed': 'Widowed'\n",
    "}\n",
    "\n",
    "label_map = {'<=50K': 'Less than $50,000', '>50K': 'More than $50,000'}"
   ]
  },
  {
   "cell_type": "code",
   "execution_count": 4,
   "metadata": {},
   "outputs": [],
   "source": [
    "import numpy as np\n",
    "\n",
    "data = np.genfromtxt('../datasets/adult/adult.data', delimiter=',', dtype='|S128')\n",
    "\n",
    "all_column_names = [\n",
    "    \"Age\", \"Workclass\", \"fnlwgt\", \"Education\",\n",
    "    \"Education-Num\", \"Marital Status\", \"Occupation\",\n",
    "    \"Relationship\", \"Race\", \"Sex\", \"Capital Gain\",\n",
    "    \"Capital Loss\", \"Hours per week\", \"Country\", 'Income'\n",
    "]\n",
    "\n",
    "categorical_columns = [\n",
    "    1, 3, 5, 6, 7, 8, 9, 10, 11, 13\n",
    "]\n",
    "\n",
    "used_columns = [\n",
    "    0, 1, 3, 5, 6, 7, 8, 9, 10, 11, 12, 13\n",
    "]\n",
    "\n",
    "# names of the columns after dropping unused columns\n",
    "column_names_after_dropping = [\n",
    "    x for i, x in enumerate(all_column_names) if i in used_columns\n",
    "]\n",
    "\n",
    "# idx of the categorical_columns after dropping unused columns\n",
    "categorical_features_after_dropping = [\n",
    "    used_columns.index(x) for x in categorical_columns\n",
    "]"
   ]
  },
  {
   "cell_type": "code",
   "execution_count": 5,
   "metadata": {},
   "outputs": [],
   "source": [
    "import sklearn\n",
    "import sklearn.ensemble\n",
    "\n",
    "# transformize some cols\n",
    "\n",
    "transformations = {\n",
    "            3: lambda x: map_array_values(x, education_map),\n",
    "            5: lambda x: map_array_values(x, married_map),\n",
    "            6: lambda x: map_array_values(x, occupation_map),\n",
    "            10: cap_gains_fn,\n",
    "            11: cap_gains_fn,\n",
    "            13: lambda x: map_array_values(x, country_map),\n",
    "            14: lambda x: map_array_values(x, label_map),\n",
    "}\n",
    "\n",
    "for feature, transformation in transformations.items():\n",
    "    data[:, feature] = transformation(data[:, feature])\n",
    "\n",
    "# encode categorical features\n",
    "for feature in categorical_columns:\n",
    "    le = sklearn.preprocessing.LabelEncoder()\n",
    "    data[:, feature] = le.fit_transform(data[:, feature])\n",
    "\n",
    "# encode label\n",
    "le = sklearn.preprocessing.LabelEncoder()\n",
    "data[:, -1] = le.fit_transform(data[:, -1])\n",
    "\n",
    "# drop unused columns and split into data and labels\n",
    "X = data[:, used_columns]\n",
    "y = data[:, -1]\n"
   ]
  },
  {
   "cell_type": "code",
   "execution_count": 6,
   "metadata": {},
   "outputs": [],
   "source": [
    "# discretize data\n",
    "\n",
    "import lime.lime_tabular\n",
    "\n",
    "X = X.astype(float)\n",
    "disc = lime.lime_tabular.QuartileDiscretizer(X, categorical_features_after_dropping, column_names_after_dropping)\n",
    "X = disc.discretize(X)"
   ]
  },
  {
   "cell_type": "code",
   "execution_count": 7,
   "metadata": {},
   "outputs": [],
   "source": [
    "from sklearn.model_selection import train_test_split\n",
    "\n",
    "X_train, X_test, y_train, y_test = train_test_split(X, y, test_size=0.33, random_state=42)"
   ]
  },
  {
   "cell_type": "code",
   "execution_count": 8,
   "metadata": {},
   "outputs": [
    {
     "name": "stdout",
     "output_type": "stream",
     "text": [
      "Train 0.9294063717625487\n",
      "Test 0.8388237483714871\n"
     ]
    }
   ],
   "source": [
    "import sklearn.ensemble\n",
    "\n",
    "c = sklearn.ensemble.RandomForestClassifier(n_estimators=50, n_jobs=5)\n",
    "c.fit(X_train, y_train)\n",
    "print('Train', sklearn.metrics.accuracy_score(y_train, c.predict(X_train)))\n",
    "print('Test', sklearn.metrics.accuracy_score(y_test, c.predict(X_test)))"
   ]
  },
  {
   "cell_type": "code",
   "execution_count": 9,
   "metadata": {},
   "outputs": [
    {
     "name": "stderr",
     "output_type": "stream",
     "text": [
      "INFO:root: Start Sampling\n",
      "INFO:root: Start Beam Search\n"
     ]
    },
    {
     "ename": "KeyboardInterrupt",
     "evalue": "",
     "output_type": "error",
     "traceback": [
      "\u001b[0;31m---------------------------------------------------------------------------\u001b[0m",
      "\u001b[0;31mKeyboardInterrupt\u001b[0m                         Traceback (most recent call last)",
      "\u001b[1;32m/Users/ironmonkeyapps/Desktop/Studium/Master/Semester3/Interpretable/final-project/iml-ws21-projects-risingnumpygods/notebooks/hyperparam.ipynb Cell 7'\u001b[0m in \u001b[0;36m<module>\u001b[0;34m\u001b[0m\n\u001b[1;32m     <a href='vscode-notebook-cell:/Users/ironmonkeyapps/Desktop/Studium/Master/Semester3/Interpretable/final-project/iml-ws21-projects-risingnumpygods/notebooks/hyperparam.ipynb#ch0000006?line=20'>21</a>\u001b[0m method_paras \u001b[39m=\u001b[39m {\u001b[39m\"\u001b[39m\u001b[39mbeam_size\u001b[39m\u001b[39m\"\u001b[39m: \u001b[39m4\u001b[39m, \u001b[39m\"\u001b[39m\u001b[39mdesired_confidence\u001b[39m\u001b[39m\"\u001b[39m: \u001b[39m0.9\u001b[39m}\n\u001b[1;32m     <a href='vscode-notebook-cell:/Users/ironmonkeyapps/Desktop/Studium/Master/Semester3/Interpretable/final-project/iml-ws21-projects-risingnumpygods/notebooks/hyperparam.ipynb#ch0000006?line=22'>23</a>\u001b[0m start_time \u001b[39m=\u001b[39m time\u001b[39m.\u001b[39mtime()\n\u001b[0;32m---> <a href='vscode-notebook-cell:/Users/ironmonkeyapps/Desktop/Studium/Master/Semester3/Interpretable/final-project/iml-ws21-projects-risingnumpygods/notebooks/hyperparam.ipynb#ch0000006?line=24'>25</a>\u001b[0m anchor \u001b[39m=\u001b[39m explainer\u001b[39m.\u001b[39;49mexplain_instance(\n\u001b[1;32m     <a href='vscode-notebook-cell:/Users/ironmonkeyapps/Desktop/Studium/Master/Semester3/Interpretable/final-project/iml-ws21-projects-risingnumpygods/notebooks/hyperparam.ipynb#ch0000006?line=25'>26</a>\u001b[0m     \u001b[39minput\u001b[39;49m\u001b[39m=\u001b[39;49mX_test[\u001b[39m1\u001b[39;49m]\u001b[39m.\u001b[39;49mreshape(\u001b[39m1\u001b[39;49m, \u001b[39m-\u001b[39;49m\u001b[39m1\u001b[39;49m),\n\u001b[1;32m     <a href='vscode-notebook-cell:/Users/ironmonkeyapps/Desktop/Studium/Master/Semester3/Interpretable/final-project/iml-ws21-projects-risingnumpygods/notebooks/hyperparam.ipynb#ch0000006?line=26'>27</a>\u001b[0m     predict_fn\u001b[39m=\u001b[39;49mc\u001b[39m.\u001b[39;49mpredict,\n\u001b[1;32m     <a href='vscode-notebook-cell:/Users/ironmonkeyapps/Desktop/Studium/Master/Semester3/Interpretable/final-project/iml-ws21-projects-risingnumpygods/notebooks/hyperparam.ipynb#ch0000006?line=27'>28</a>\u001b[0m     method\u001b[39m=\u001b[39;49m\u001b[39m\"\u001b[39;49m\u001b[39mbeam\u001b[39;49m\u001b[39m\"\u001b[39;49m,\n\u001b[1;32m     <a href='vscode-notebook-cell:/Users/ironmonkeyapps/Desktop/Studium/Master/Semester3/Interpretable/final-project/iml-ws21-projects-risingnumpygods/notebooks/hyperparam.ipynb#ch0000006?line=28'>29</a>\u001b[0m     epsilon \u001b[39m=\u001b[39;49m value \u001b[39mif\u001b[39;49;00m key \u001b[39m==\u001b[39;49m \u001b[39m\"\u001b[39;49m\u001b[39mepsilon\u001b[39;49m\u001b[39m\"\u001b[39;49m \u001b[39melse\u001b[39;49;00m \u001b[39m0.1\u001b[39;49m,\n\u001b[1;32m     <a href='vscode-notebook-cell:/Users/ironmonkeyapps/Desktop/Studium/Master/Semester3/Interpretable/final-project/iml-ws21-projects-risingnumpygods/notebooks/hyperparam.ipynb#ch0000006?line=29'>30</a>\u001b[0m     delta \u001b[39m=\u001b[39;49m value \u001b[39mif\u001b[39;49;00m key \u001b[39m==\u001b[39;49m \u001b[39m\"\u001b[39;49m\u001b[39mdelta\u001b[39;49m\u001b[39m\"\u001b[39;49m \u001b[39melse\u001b[39;49;00m \u001b[39m0.1\u001b[39;49m,\n\u001b[1;32m     <a href='vscode-notebook-cell:/Users/ironmonkeyapps/Desktop/Studium/Master/Semester3/Interpretable/final-project/iml-ws21-projects-risingnumpygods/notebooks/hyperparam.ipynb#ch0000006?line=30'>31</a>\u001b[0m     batch_size \u001b[39m=\u001b[39;49m value \u001b[39mif\u001b[39;49;00m key \u001b[39m==\u001b[39;49m \u001b[39m\"\u001b[39;49m\u001b[39mbatch_size\u001b[39;49m\u001b[39m\"\u001b[39;49m \u001b[39melse\u001b[39;49;00m \u001b[39m16\u001b[39;49m,\n\u001b[1;32m     <a href='vscode-notebook-cell:/Users/ironmonkeyapps/Desktop/Studium/Master/Semester3/Interpretable/final-project/iml-ws21-projects-risingnumpygods/notebooks/hyperparam.ipynb#ch0000006?line=31'>32</a>\u001b[0m     task_specific\u001b[39m=\u001b[39;49mtask_paras,\n\u001b[1;32m     <a href='vscode-notebook-cell:/Users/ironmonkeyapps/Desktop/Studium/Master/Semester3/Interpretable/final-project/iml-ws21-projects-risingnumpygods/notebooks/hyperparam.ipynb#ch0000006?line=32'>33</a>\u001b[0m     method_specific\u001b[39m=\u001b[39;49mmethod_paras,\n\u001b[1;32m     <a href='vscode-notebook-cell:/Users/ironmonkeyapps/Desktop/Studium/Master/Semester3/Interpretable/final-project/iml-ws21-projects-risingnumpygods/notebooks/hyperparam.ipynb#ch0000006?line=33'>34</a>\u001b[0m     num_coverage_samples\u001b[39m=\u001b[39;49m\u001b[39m100\u001b[39;49m,\n\u001b[1;32m     <a href='vscode-notebook-cell:/Users/ironmonkeyapps/Desktop/Studium/Master/Semester3/Interpretable/final-project/iml-ws21-projects-risingnumpygods/notebooks/hyperparam.ipynb#ch0000006?line=34'>35</a>\u001b[0m )\n\u001b[1;32m     <a href='vscode-notebook-cell:/Users/ironmonkeyapps/Desktop/Studium/Master/Semester3/Interpretable/final-project/iml-ws21-projects-risingnumpygods/notebooks/hyperparam.ipynb#ch0000006?line=36'>37</a>\u001b[0m end_time \u001b[39m=\u001b[39m time\u001b[39m.\u001b[39mtime()\n\u001b[1;32m     <a href='vscode-notebook-cell:/Users/ironmonkeyapps/Desktop/Studium/Master/Semester3/Interpretable/final-project/iml-ws21-projects-risingnumpygods/notebooks/hyperparam.ipynb#ch0000006?line=38'>39</a>\u001b[0m agg_data\u001b[39m.\u001b[39mappend([\n\u001b[1;32m     <a href='vscode-notebook-cell:/Users/ironmonkeyapps/Desktop/Studium/Master/Semester3/Interpretable/final-project/iml-ws21-projects-risingnumpygods/notebooks/hyperparam.ipynb#ch0000006?line=39'>40</a>\u001b[0m     key, value, \n\u001b[1;32m     <a href='vscode-notebook-cell:/Users/ironmonkeyapps/Desktop/Studium/Master/Semester3/Interpretable/final-project/iml-ws21-projects-risingnumpygods/notebooks/hyperparam.ipynb#ch0000006?line=40'>41</a>\u001b[0m     anchor\u001b[39m.\u001b[39mfeature_mask, anchor\u001b[39m.\u001b[39mprecision, \n\u001b[1;32m     <a href='vscode-notebook-cell:/Users/ironmonkeyapps/Desktop/Studium/Master/Semester3/Interpretable/final-project/iml-ws21-projects-risingnumpygods/notebooks/hyperparam.ipynb#ch0000006?line=41'>42</a>\u001b[0m     anchor\u001b[39m.\u001b[39mn_samples, anchor\u001b[39m.\u001b[39mpositive_samples, \n\u001b[1;32m     <a href='vscode-notebook-cell:/Users/ironmonkeyapps/Desktop/Studium/Master/Semester3/Interpretable/final-project/iml-ws21-projects-risingnumpygods/notebooks/hyperparam.ipynb#ch0000006?line=42'>43</a>\u001b[0m     anchor\u001b[39m.\u001b[39mcoverage, end_time \u001b[39m-\u001b[39m start_time\n\u001b[1;32m     <a href='vscode-notebook-cell:/Users/ironmonkeyapps/Desktop/Studium/Master/Semester3/Interpretable/final-project/iml-ws21-projects-risingnumpygods/notebooks/hyperparam.ipynb#ch0000006?line=43'>44</a>\u001b[0m ])\n",
      "File \u001b[0;32m~/Desktop/Studium/Master/Semester3/Interpretable/final-project/iml-ws21-projects-risingnumpygods/Anchor/anchor.py:101\u001b[0m, in \u001b[0;36mAnchor.explain_instance\u001b[0;34m(self, input, predict_fn, method, task_specific, method_specific, num_coverage_samples, epsilon, delta, batch_size, verbose, seed)\u001b[0m\n\u001b[1;32m     <a href='file:///~/Desktop/Studium/Master/Semester3/Interpretable/final-project/iml-ws21-projects-risingnumpygods/Anchor/anchor.py?line=98'>99</a>\u001b[0m \u001b[39melif\u001b[39;00m method \u001b[39m==\u001b[39m \u001b[39m\"\u001b[39m\u001b[39mbeam\u001b[39m\u001b[39m\"\u001b[39m:\n\u001b[1;32m    <a href='file:///~/Desktop/Studium/Master/Semester3/Interpretable/final-project/iml-ws21-projects-risingnumpygods/Anchor/anchor.py?line=99'>100</a>\u001b[0m     logging\u001b[39m.\u001b[39minfo(\u001b[39m\"\u001b[39m\u001b[39m Start Beam Search\u001b[39m\u001b[39m\"\u001b[39m)\n\u001b[0;32m--> <a href='file:///~/Desktop/Studium/Master/Semester3/Interpretable/final-project/iml-ws21-projects-risingnumpygods/Anchor/anchor.py?line=100'>101</a>\u001b[0m     exp \u001b[39m=\u001b[39m \u001b[39mself\u001b[39;49m\u001b[39m.\u001b[39;49m__beam_anchor(\u001b[39m*\u001b[39;49m\u001b[39m*\u001b[39;49mmethod_specific)\n\u001b[1;32m    <a href='file:///~/Desktop/Studium/Master/Semester3/Interpretable/final-project/iml-ws21-projects-risingnumpygods/Anchor/anchor.py?line=101'>102</a>\u001b[0m \u001b[39melif\u001b[39;00m method \u001b[39m==\u001b[39m \u001b[39m\"\u001b[39m\u001b[39msmac\u001b[39m\u001b[39m\"\u001b[39m:\n\u001b[1;32m    <a href='file:///~/Desktop/Studium/Master/Semester3/Interpretable/final-project/iml-ws21-projects-risingnumpygods/Anchor/anchor.py?line=102'>103</a>\u001b[0m     logging\u001b[39m.\u001b[39minfo(\u001b[39m\"\u001b[39m\u001b[39m Start SMAC Search\u001b[39m\u001b[39m\"\u001b[39m)\n",
      "File \u001b[0;32m~/Desktop/Studium/Master/Semester3/Interpretable/final-project/iml-ws21-projects-risingnumpygods/Anchor/anchor.py:269\u001b[0m, in \u001b[0;36mAnchor.__beam_anchor\u001b[0;34m(self, desired_confidence, beam_size)\u001b[0m\n\u001b[1;32m    <a href='file:///~/Desktop/Studium/Master/Semester3/Interpretable/final-project/iml-ws21-projects-risingnumpygods/Anchor/anchor.py?line=265'>266</a>\u001b[0m \u001b[39mif\u001b[39;00m \u001b[39mlen\u001b[39m(candidates) \u001b[39m==\u001b[39m \u001b[39m0\u001b[39m:\n\u001b[1;32m    <a href='file:///~/Desktop/Studium/Master/Semester3/Interpretable/final-project/iml-ws21-projects-risingnumpygods/Anchor/anchor.py?line=266'>267</a>\u001b[0m     \u001b[39mbreak\u001b[39;00m\n\u001b[0;32m--> <a href='file:///~/Desktop/Studium/Master/Semester3/Interpretable/final-project/iml-ws21-projects-risingnumpygods/Anchor/anchor.py?line=268'>269</a>\u001b[0m best_candidates \u001b[39m=\u001b[39m \u001b[39mself\u001b[39;49m\u001b[39m.\u001b[39;49mkl_lucb\u001b[39m.\u001b[39;49mget_best_candidates(\n\u001b[1;32m    <a href='file:///~/Desktop/Studium/Master/Semester3/Interpretable/final-project/iml-ws21-projects-risingnumpygods/Anchor/anchor.py?line=269'>270</a>\u001b[0m     candidates, \u001b[39mself\u001b[39;49m\u001b[39m.\u001b[39;49msampler, \u001b[39mmin\u001b[39;49m(beam_size, \u001b[39mlen\u001b[39;49m(candidates))\n\u001b[1;32m    <a href='file:///~/Desktop/Studium/Master/Semester3/Interpretable/final-project/iml-ws21-projects-risingnumpygods/Anchor/anchor.py?line=270'>271</a>\u001b[0m )\n\u001b[1;32m    <a href='file:///~/Desktop/Studium/Master/Semester3/Interpretable/final-project/iml-ws21-projects-risingnumpygods/Anchor/anchor.py?line=272'>273</a>\u001b[0m best_of_size[current_anchor_size] \u001b[39m=\u001b[39m best_candidates\n\u001b[1;32m    <a href='file:///~/Desktop/Studium/Master/Semester3/Interpretable/final-project/iml-ws21-projects-risingnumpygods/Anchor/anchor.py?line=274'>275</a>\u001b[0m \u001b[39mfor\u001b[39;00m c \u001b[39min\u001b[39;00m best_candidates:\n",
      "File \u001b[0;32m~/Desktop/Studium/Master/Semester3/Interpretable/final-project/iml-ws21-projects-risingnumpygods/Anchor/bandit.py:60\u001b[0m, in \u001b[0;36mKL_LUCB.get_best_candidates\u001b[0;34m(self, candidates, sampler, top_n)\u001b[0m\n\u001b[1;32m     <a href='file:///~/Desktop/Studium/Master/Semester3/Interpretable/final-project/iml-ws21-projects-risingnumpygods/Anchor/bandit.py?line=56'>57</a>\u001b[0m     candidates[lt], _ \u001b[39m=\u001b[39m sampler\u001b[39m.\u001b[39msample(candidates[lt], \u001b[39mself\u001b[39m\u001b[39m.\u001b[39mbatch_size)\n\u001b[1;32m     <a href='file:///~/Desktop/Studium/Master/Semester3/Interpretable/final-project/iml-ws21-projects-risingnumpygods/Anchor/bandit.py?line=58'>59</a>\u001b[0m     t \u001b[39m+\u001b[39m\u001b[39m=\u001b[39m \u001b[39m1\u001b[39m\n\u001b[0;32m---> <a href='file:///~/Desktop/Studium/Master/Semester3/Interpretable/final-project/iml-ws21-projects-risingnumpygods/Anchor/bandit.py?line=59'>60</a>\u001b[0m     lt, ut, prec_lb, prec_ub \u001b[39m=\u001b[39m \u001b[39mself\u001b[39;49m\u001b[39m.\u001b[39;49m__update_bounds(\n\u001b[1;32m     <a href='file:///~/Desktop/Studium/Master/Semester3/Interpretable/final-project/iml-ws21-projects-risingnumpygods/Anchor/bandit.py?line=60'>61</a>\u001b[0m         candidates, prec_lb, prec_ub, t, top_n\n\u001b[1;32m     <a href='file:///~/Desktop/Studium/Master/Semester3/Interpretable/final-project/iml-ws21-projects-risingnumpygods/Anchor/bandit.py?line=61'>62</a>\u001b[0m     )\n\u001b[1;32m     <a href='file:///~/Desktop/Studium/Master/Semester3/Interpretable/final-project/iml-ws21-projects-risingnumpygods/Anchor/bandit.py?line=62'>63</a>\u001b[0m     prec_diff \u001b[39m=\u001b[39m prec_ub[ut] \u001b[39m-\u001b[39m prec_lb[lt]\n\u001b[1;32m     <a href='file:///~/Desktop/Studium/Master/Semester3/Interpretable/final-project/iml-ws21-projects-risingnumpygods/Anchor/bandit.py?line=64'>65</a>\u001b[0m best_candidates_idxs \u001b[39m=\u001b[39m np\u001b[39m.\u001b[39margsort([c\u001b[39m.\u001b[39mprecision \u001b[39mfor\u001b[39;00m c \u001b[39min\u001b[39;00m candidates])[\n\u001b[1;32m     <a href='file:///~/Desktop/Studium/Master/Semester3/Interpretable/final-project/iml-ws21-projects-risingnumpygods/Anchor/bandit.py?line=65'>66</a>\u001b[0m     \u001b[39m-\u001b[39mtop_n:\n\u001b[1;32m     <a href='file:///~/Desktop/Studium/Master/Semester3/Interpretable/final-project/iml-ws21-projects-risingnumpygods/Anchor/bandit.py?line=66'>67</a>\u001b[0m ]  \u001b[39m# use partioning\u001b[39;00m\n",
      "File \u001b[0;32m~/Desktop/Studium/Master/Semester3/Interpretable/final-project/iml-ws21-projects-risingnumpygods/Anchor/bandit.py:107\u001b[0m, in \u001b[0;36mKL_LUCB.__update_bounds\u001b[0;34m(self, candidates, lb, ub, t, top_n)\u001b[0m\n\u001b[1;32m    <a href='file:///~/Desktop/Studium/Master/Semester3/Interpretable/final-project/iml-ws21-projects-risingnumpygods/Anchor/bandit.py?line=102'>103</a>\u001b[0m     lb[f] \u001b[39m=\u001b[39m KL_LUCB\u001b[39m.\u001b[39mdlow_bernoulli(\n\u001b[1;32m    <a href='file:///~/Desktop/Studium/Master/Semester3/Interpretable/final-project/iml-ws21-projects-risingnumpygods/Anchor/bandit.py?line=103'>104</a>\u001b[0m         means[f], beta \u001b[39m/\u001b[39m \u001b[39mmax\u001b[39m(candidates[f]\u001b[39m.\u001b[39mn_samples, \u001b[39m1\u001b[39m)\n\u001b[1;32m    <a href='file:///~/Desktop/Studium/Master/Semester3/Interpretable/final-project/iml-ws21-projects-risingnumpygods/Anchor/bandit.py?line=104'>105</a>\u001b[0m     )\n\u001b[1;32m    <a href='file:///~/Desktop/Studium/Master/Semester3/Interpretable/final-project/iml-ws21-projects-risingnumpygods/Anchor/bandit.py?line=105'>106</a>\u001b[0m \u001b[39mfor\u001b[39;00m f \u001b[39min\u001b[39;00m nj:\n\u001b[0;32m--> <a href='file:///~/Desktop/Studium/Master/Semester3/Interpretable/final-project/iml-ws21-projects-risingnumpygods/Anchor/bandit.py?line=106'>107</a>\u001b[0m     ub[f] \u001b[39m=\u001b[39m KL_LUCB\u001b[39m.\u001b[39;49mdup_bernoulli(\n\u001b[1;32m    <a href='file:///~/Desktop/Studium/Master/Semester3/Interpretable/final-project/iml-ws21-projects-risingnumpygods/Anchor/bandit.py?line=107'>108</a>\u001b[0m         means[f], beta \u001b[39m/\u001b[39;49m \u001b[39mmax\u001b[39;49m(candidates[f]\u001b[39m.\u001b[39;49mn_samples, \u001b[39m1\u001b[39;49m)\n\u001b[1;32m    <a href='file:///~/Desktop/Studium/Master/Semester3/Interpretable/final-project/iml-ws21-projects-risingnumpygods/Anchor/bandit.py?line=108'>109</a>\u001b[0m     )\n\u001b[1;32m    <a href='file:///~/Desktop/Studium/Master/Semester3/Interpretable/final-project/iml-ws21-projects-risingnumpygods/Anchor/bandit.py?line=110'>111</a>\u001b[0m ut \u001b[39m=\u001b[39m nj[np\u001b[39m.\u001b[39margmax(ub[nj])] \u001b[39mif\u001b[39;00m \u001b[39mlen\u001b[39m(nj) \u001b[39m!=\u001b[39m \u001b[39m0\u001b[39m \u001b[39melse\u001b[39;00m \u001b[39m0\u001b[39m\n\u001b[1;32m    <a href='file:///~/Desktop/Studium/Master/Semester3/Interpretable/final-project/iml-ws21-projects-risingnumpygods/Anchor/bandit.py?line=111'>112</a>\u001b[0m \u001b[39m# candidate where upper bound of candidate is maximal\u001b[39;00m\n",
      "File \u001b[0;32m~/Desktop/Studium/Master/Semester3/Interpretable/final-project/iml-ws21-projects-risingnumpygods/Anchor/bandit.py:134\u001b[0m, in \u001b[0;36mKL_LUCB.dup_bernoulli\u001b[0;34m(precision, level)\u001b[0m\n\u001b[1;32m    <a href='file:///~/Desktop/Studium/Master/Semester3/Interpretable/final-project/iml-ws21-projects-risingnumpygods/Anchor/bandit.py?line=131'>132</a>\u001b[0m \u001b[39mfor\u001b[39;00m _ \u001b[39min\u001b[39;00m \u001b[39mrange\u001b[39m(\u001b[39m25\u001b[39m):  \u001b[39m# this should somehow converge?\u001b[39;00m\n\u001b[1;32m    <a href='file:///~/Desktop/Studium/Master/Semester3/Interpretable/final-project/iml-ws21-projects-risingnumpygods/Anchor/bandit.py?line=132'>133</a>\u001b[0m     qm \u001b[39m=\u001b[39m (um \u001b[39m+\u001b[39m lm) \u001b[39m/\u001b[39m \u001b[39m2.0\u001b[39m\n\u001b[0;32m--> <a href='file:///~/Desktop/Studium/Master/Semester3/Interpretable/final-project/iml-ws21-projects-risingnumpygods/Anchor/bandit.py?line=133'>134</a>\u001b[0m     \u001b[39mif\u001b[39;00m KL_LUCB\u001b[39m.\u001b[39;49mkl_bernoulli(precision, qm) \u001b[39m>\u001b[39m level:\n\u001b[1;32m    <a href='file:///~/Desktop/Studium/Master/Semester3/Interpretable/final-project/iml-ws21-projects-risingnumpygods/Anchor/bandit.py?line=134'>135</a>\u001b[0m         um \u001b[39m=\u001b[39m qm\n\u001b[1;32m    <a href='file:///~/Desktop/Studium/Master/Semester3/Interpretable/final-project/iml-ws21-projects-risingnumpygods/Anchor/bandit.py?line=135'>136</a>\u001b[0m     \u001b[39m# dont know why this should make sense at all?\u001b[39;00m\n\u001b[1;32m    <a href='file:///~/Desktop/Studium/Master/Semester3/Interpretable/final-project/iml-ws21-projects-risingnumpygods/Anchor/bandit.py?line=136'>137</a>\u001b[0m     \u001b[39melse\u001b[39;00m:\n",
      "File \u001b[0;32m~/Desktop/Studium/Master/Semester3/Interpretable/final-project/iml-ws21-projects-risingnumpygods/Anchor/bandit.py:159\u001b[0m, in \u001b[0;36mKL_LUCB.kl_bernoulli\u001b[0;34m(precision, q)\u001b[0m\n\u001b[1;32m    <a href='file:///~/Desktop/Studium/Master/Semester3/Interpretable/final-project/iml-ws21-projects-risingnumpygods/Anchor/bandit.py?line=155'>156</a>\u001b[0m p \u001b[39m=\u001b[39m \u001b[39mmin\u001b[39m(\u001b[39m0.9999999999999999\u001b[39m, \u001b[39mmax\u001b[39m(\u001b[39m0.0000001\u001b[39m, precision))\n\u001b[1;32m    <a href='file:///~/Desktop/Studium/Master/Semester3/Interpretable/final-project/iml-ws21-projects-risingnumpygods/Anchor/bandit.py?line=156'>157</a>\u001b[0m q \u001b[39m=\u001b[39m \u001b[39mmin\u001b[39m(\u001b[39m0.9999999999999999\u001b[39m, \u001b[39mmax\u001b[39m(\u001b[39m0.0000001\u001b[39m, q))\n\u001b[0;32m--> <a href='file:///~/Desktop/Studium/Master/Semester3/Interpretable/final-project/iml-ws21-projects-risingnumpygods/Anchor/bandit.py?line=158'>159</a>\u001b[0m \u001b[39mreturn\u001b[39;00m p \u001b[39m*\u001b[39m np\u001b[39m.\u001b[39;49mlog(\u001b[39mfloat\u001b[39;49m(p) \u001b[39m/\u001b[39;49m q) \u001b[39m+\u001b[39m (\u001b[39m1\u001b[39m \u001b[39m-\u001b[39m p) \u001b[39m*\u001b[39m np\u001b[39m.\u001b[39mlog(\u001b[39mfloat\u001b[39m(\u001b[39m1\u001b[39m \u001b[39m-\u001b[39m p) \u001b[39m/\u001b[39m (\u001b[39m1\u001b[39m \u001b[39m-\u001b[39m q))\n",
      "\u001b[0;31mKeyboardInterrupt\u001b[0m: "
     ]
    }
   ],
   "source": [
    "import os\n",
    "import sys\n",
    "\n",
    "module_path = os.path.abspath(os.path.join('..'))\n",
    "if module_path not in sys.path:\n",
    "    sys.path.append(module_path)\n",
    "from Anchor.anchor import Anchor, Tasktype\n",
    "import time\n",
    "\n",
    "params = {\n",
    "    \"batch_size\": [8, 16, 32, 64, 128, 256, 512],\n",
    "    \"delta\": [0.1, 0.15, 0.2, 0,25, 0.3, 0.35, 0.4, 0.45, 0.5, 0.55, 0.6, 0.65, 0.7],\n",
    "    \"epsilon\": [0.1, 0.15, 0.2, 0,25, 0.3, 0.35, 0.4, 0.45, 0.5, 0.55, 0.6, 0.65, 0.7],\n",
    "}\n",
    "\n",
    "agg_data = []\n",
    "for key, values in params.items():\n",
    "    for value in values:\n",
    "        explainer = Anchor(Tasktype.TABULAR)\n",
    "        task_paras = {\"dataset\": X_train, \"column_names\": column_names_after_dropping}\n",
    "        method_paras = {\"beam_size\": 4, \"desired_confidence\": 0.9}\n",
    "\n",
    "        start_time = time.time()\n",
    "\n",
    "        anchor = explainer.explain_instance(\n",
    "            input=X_test[1].reshape(1, -1),\n",
    "            predict_fn=c.predict,\n",
    "            method=\"beam\",\n",
    "            epsilon = value if key == \"epsilon\" else 0.1,\n",
    "            delta = value if key == \"delta\" else 0.1,\n",
    "            batch_size = value if key == \"batch_size\" else 16,\n",
    "            task_specific=task_paras,\n",
    "            method_specific=method_paras,\n",
    "            num_coverage_samples=100,\n",
    "        )\n",
    "\n",
    "        end_time = time.time()\n",
    "\n",
    "        agg_data.append([\n",
    "            key, value, \n",
    "            anchor.feature_mask, anchor.precision, \n",
    "            anchor.n_samples, anchor.positive_samples, \n",
    "            anchor.coverage, end_time - start_time\n",
    "        ])\n"
   ]
  },
  {
   "cell_type": "code",
   "execution_count": null,
   "metadata": {},
   "outputs": [],
   "source": [
    "import csv\n",
    "\n",
    "header = [\n",
    "    'parameter', 'value', 'feature_mask', \n",
    "    'precision', 'n_samples', 'positive_samples', 'coverage', 'search_duration']\n",
    "\n",
    "\n",
    "with open('hyperparams.csv', 'w', encoding='UTF8', newline='') as f:\n",
    "    writer = csv.writer(f)\n",
    "    writer.writerow(header)\n",
    "    writer.writerows(agg_data)"
   ]
  },
  {
   "cell_type": "code",
   "execution_count": 30,
   "metadata": {},
   "outputs": [
    {
     "name": "stdout",
     "output_type": "stream",
     "text": [
      "    parameter  value feature_mask  precision  n_samples  positive_samples  \\\n",
      "0  batch_size    4.0   [2, 7, 10]   0.911100       2036              1855   \n",
      "1  batch_size    8.0   [8, 2, 10]   0.913158       2280              2082   \n",
      "2  batch_size   12.0   [2, 7, 10]   0.904531       2472              2236   \n",
      "3  batch_size   16.0    [7, 2, 8]   0.919730       1632              1501   \n",
      "4  batch_size   20.0   [10, 2, 7]   0.909091       1980              1800   \n",
      "\n",
      "   coverage  search_duration  \n",
      "0      0.17       244.245227  \n",
      "1      0.07        92.903987  \n",
      "2      0.17        60.543440  \n",
      "3      0.06        48.367267  \n",
      "4      0.17        38.109655  \n"
     ]
    },
    {
     "data": {
      "application/vnd.plotly.v1+json": {
       "config": {
        "plotlyServerURL": "https://plot.ly"
       },
       "data": [
        {
         "mode": "markers",
         "name": "Coverage x Batch Size",
         "type": "scatter",
         "x": [
          4,
          8,
          12,
          16,
          20,
          24,
          32,
          48,
          64,
          96,
          128,
          192,
          256,
          384,
          512,
          1024,
          2048,
          4092
         ],
         "xaxis": "x",
         "y": [
          0.17,
          0.07,
          0.17,
          0.06,
          0.17,
          0.17,
          0.17,
          0.17,
          0.17,
          0.17,
          0.07,
          0.17,
          0.44,
          0.17,
          0.17,
          0.17,
          0.17,
          0.17
         ],
         "yaxis": "y"
        },
        {
         "mode": "markers",
         "name": "Coverage x Delta",
         "type": "scatter",
         "x": [
          0.05,
          0.1,
          0.15,
          0.2,
          0.25,
          0.3,
          0.35,
          0.4,
          0.45,
          0.5,
          0.55,
          0.6,
          0.65,
          0.7,
          0.75,
          0.8,
          0.85,
          0.9,
          0.95
         ],
         "xaxis": "x3",
         "y": [
          0.06,
          0.06,
          0.06,
          0.06,
          0.06,
          0.06,
          0.06,
          0.06,
          0.06,
          0.06,
          0.06,
          0.06,
          0.06,
          0.06,
          0.06,
          0.06,
          0.06,
          0.06,
          0.06
         ],
         "yaxis": "y3"
        },
        {
         "mode": "markers",
         "name": "Coverage x Epsilon",
         "type": "scatter",
         "x": [
          0.05,
          0.1,
          0.15,
          0.2,
          0.25,
          0.3,
          0.35,
          0.4,
          0.45,
          0.5,
          0.55,
          0.6,
          0.65,
          0.7,
          0.75,
          0.8,
          0.85,
          0.9,
          0.95
         ],
         "xaxis": "x5",
         "y": [
          0.17,
          0.06,
          0.44,
          0.29,
          0.44,
          0.42,
          0.14,
          0.17,
          0.01,
          0.04,
          0.14,
          0.02,
          0.04,
          0,
          0,
          0,
          0,
          0,
          0
         ],
         "yaxis": "y5"
        },
        {
         "mode": "markers",
         "name": "Search Time x Batch Size",
         "type": "scatter",
         "x": [
          4,
          8,
          12,
          16,
          20,
          24,
          32,
          48,
          64,
          96,
          128,
          192,
          256,
          384,
          512,
          1024,
          2048,
          4092
         ],
         "xaxis": "x2",
         "y": [
          244.24522709846497,
          92.90398740768433,
          60.543439626693726,
          48.36726665496826,
          38.10965538024902,
          32.58893609046936,
          25.402694940567017,
          17.649266242980957,
          14.115131378173828,
          9.77678108215332,
          8.134850978851318,
          6.147704362869263,
          4.809021711349487,
          5.641199827194214,
          5.870367765426636,
          5.266568183898926,
          5.288073539733887,
          5.342414379119873
         ],
         "yaxis": "y2"
        },
        {
         "mode": "markers",
         "name": "Search Time x Delta",
         "type": "scatter",
         "x": [
          0.05,
          0.1,
          0.15,
          0.2,
          0.25,
          0.3,
          0.35,
          0.4,
          0.45,
          0.5,
          0.55,
          0.6,
          0.65,
          0.7,
          0.75,
          0.8,
          0.85,
          0.9,
          0.95
         ],
         "xaxis": "x4",
         "y": [
          48.23134112358093,
          48.3665988445282,
          48.008540630340576,
          47.772393465042114,
          47.80950999259949,
          48.20719885826111,
          48.579137086868286,
          49.53904438018799,
          49.45793795585632,
          49.658467292785645,
          49.58041596412659,
          49.3303918838501,
          49.85998845100403,
          49.51608037948608,
          49.604743003845215,
          49.460278272628784,
          49.5639877319336,
          49.40539908409119,
          49.44799399375916
         ],
         "yaxis": "y4"
        },
        {
         "mode": "markers",
         "name": "Search Time x Epsilon",
         "type": "scatter",
         "x": [
          0.05,
          0.1,
          0.15,
          0.2,
          0.25,
          0.3,
          0.35,
          0.4,
          0.45,
          0.5,
          0.55,
          0.6,
          0.65,
          0.7,
          0.75,
          0.8,
          0.85,
          0.9,
          0.95
         ],
         "xaxis": "x6",
         "y": [
          146.72343134880066,
          49.688050746917725,
          15.84531044960022,
          16.361902952194214,
          7.567407369613647,
          9.139840602874756,
          7.07924747467041,
          4.847908973693848,
          9.811727046966553,
          3.884579181671143,
          4.7295873165130615,
          6.2407402992248535,
          4.621754169464111,
          6.578073501586914,
          5.449353456497192,
          4.486458778381348,
          4.068099498748779,
          3.434569358825684,
          4.198592185974121
         ],
         "yaxis": "y6"
        }
       ],
       "layout": {
        "height": 800,
        "template": {
         "data": {
          "bar": [
           {
            "error_x": {
             "color": "#2a3f5f"
            },
            "error_y": {
             "color": "#2a3f5f"
            },
            "marker": {
             "line": {
              "color": "#E5ECF6",
              "width": 0.5
             },
             "pattern": {
              "fillmode": "overlay",
              "size": 10,
              "solidity": 0.2
             }
            },
            "type": "bar"
           }
          ],
          "barpolar": [
           {
            "marker": {
             "line": {
              "color": "#E5ECF6",
              "width": 0.5
             },
             "pattern": {
              "fillmode": "overlay",
              "size": 10,
              "solidity": 0.2
             }
            },
            "type": "barpolar"
           }
          ],
          "carpet": [
           {
            "aaxis": {
             "endlinecolor": "#2a3f5f",
             "gridcolor": "white",
             "linecolor": "white",
             "minorgridcolor": "white",
             "startlinecolor": "#2a3f5f"
            },
            "baxis": {
             "endlinecolor": "#2a3f5f",
             "gridcolor": "white",
             "linecolor": "white",
             "minorgridcolor": "white",
             "startlinecolor": "#2a3f5f"
            },
            "type": "carpet"
           }
          ],
          "choropleth": [
           {
            "colorbar": {
             "outlinewidth": 0,
             "ticks": ""
            },
            "type": "choropleth"
           }
          ],
          "contour": [
           {
            "colorbar": {
             "outlinewidth": 0,
             "ticks": ""
            },
            "colorscale": [
             [
              0,
              "#0d0887"
             ],
             [
              0.1111111111111111,
              "#46039f"
             ],
             [
              0.2222222222222222,
              "#7201a8"
             ],
             [
              0.3333333333333333,
              "#9c179e"
             ],
             [
              0.4444444444444444,
              "#bd3786"
             ],
             [
              0.5555555555555556,
              "#d8576b"
             ],
             [
              0.6666666666666666,
              "#ed7953"
             ],
             [
              0.7777777777777778,
              "#fb9f3a"
             ],
             [
              0.8888888888888888,
              "#fdca26"
             ],
             [
              1,
              "#f0f921"
             ]
            ],
            "type": "contour"
           }
          ],
          "contourcarpet": [
           {
            "colorbar": {
             "outlinewidth": 0,
             "ticks": ""
            },
            "type": "contourcarpet"
           }
          ],
          "heatmap": [
           {
            "colorbar": {
             "outlinewidth": 0,
             "ticks": ""
            },
            "colorscale": [
             [
              0,
              "#0d0887"
             ],
             [
              0.1111111111111111,
              "#46039f"
             ],
             [
              0.2222222222222222,
              "#7201a8"
             ],
             [
              0.3333333333333333,
              "#9c179e"
             ],
             [
              0.4444444444444444,
              "#bd3786"
             ],
             [
              0.5555555555555556,
              "#d8576b"
             ],
             [
              0.6666666666666666,
              "#ed7953"
             ],
             [
              0.7777777777777778,
              "#fb9f3a"
             ],
             [
              0.8888888888888888,
              "#fdca26"
             ],
             [
              1,
              "#f0f921"
             ]
            ],
            "type": "heatmap"
           }
          ],
          "heatmapgl": [
           {
            "colorbar": {
             "outlinewidth": 0,
             "ticks": ""
            },
            "colorscale": [
             [
              0,
              "#0d0887"
             ],
             [
              0.1111111111111111,
              "#46039f"
             ],
             [
              0.2222222222222222,
              "#7201a8"
             ],
             [
              0.3333333333333333,
              "#9c179e"
             ],
             [
              0.4444444444444444,
              "#bd3786"
             ],
             [
              0.5555555555555556,
              "#d8576b"
             ],
             [
              0.6666666666666666,
              "#ed7953"
             ],
             [
              0.7777777777777778,
              "#fb9f3a"
             ],
             [
              0.8888888888888888,
              "#fdca26"
             ],
             [
              1,
              "#f0f921"
             ]
            ],
            "type": "heatmapgl"
           }
          ],
          "histogram": [
           {
            "marker": {
             "pattern": {
              "fillmode": "overlay",
              "size": 10,
              "solidity": 0.2
             }
            },
            "type": "histogram"
           }
          ],
          "histogram2d": [
           {
            "colorbar": {
             "outlinewidth": 0,
             "ticks": ""
            },
            "colorscale": [
             [
              0,
              "#0d0887"
             ],
             [
              0.1111111111111111,
              "#46039f"
             ],
             [
              0.2222222222222222,
              "#7201a8"
             ],
             [
              0.3333333333333333,
              "#9c179e"
             ],
             [
              0.4444444444444444,
              "#bd3786"
             ],
             [
              0.5555555555555556,
              "#d8576b"
             ],
             [
              0.6666666666666666,
              "#ed7953"
             ],
             [
              0.7777777777777778,
              "#fb9f3a"
             ],
             [
              0.8888888888888888,
              "#fdca26"
             ],
             [
              1,
              "#f0f921"
             ]
            ],
            "type": "histogram2d"
           }
          ],
          "histogram2dcontour": [
           {
            "colorbar": {
             "outlinewidth": 0,
             "ticks": ""
            },
            "colorscale": [
             [
              0,
              "#0d0887"
             ],
             [
              0.1111111111111111,
              "#46039f"
             ],
             [
              0.2222222222222222,
              "#7201a8"
             ],
             [
              0.3333333333333333,
              "#9c179e"
             ],
             [
              0.4444444444444444,
              "#bd3786"
             ],
             [
              0.5555555555555556,
              "#d8576b"
             ],
             [
              0.6666666666666666,
              "#ed7953"
             ],
             [
              0.7777777777777778,
              "#fb9f3a"
             ],
             [
              0.8888888888888888,
              "#fdca26"
             ],
             [
              1,
              "#f0f921"
             ]
            ],
            "type": "histogram2dcontour"
           }
          ],
          "mesh3d": [
           {
            "colorbar": {
             "outlinewidth": 0,
             "ticks": ""
            },
            "type": "mesh3d"
           }
          ],
          "parcoords": [
           {
            "line": {
             "colorbar": {
              "outlinewidth": 0,
              "ticks": ""
             }
            },
            "type": "parcoords"
           }
          ],
          "pie": [
           {
            "automargin": true,
            "type": "pie"
           }
          ],
          "scatter": [
           {
            "marker": {
             "colorbar": {
              "outlinewidth": 0,
              "ticks": ""
             }
            },
            "type": "scatter"
           }
          ],
          "scatter3d": [
           {
            "line": {
             "colorbar": {
              "outlinewidth": 0,
              "ticks": ""
             }
            },
            "marker": {
             "colorbar": {
              "outlinewidth": 0,
              "ticks": ""
             }
            },
            "type": "scatter3d"
           }
          ],
          "scattercarpet": [
           {
            "marker": {
             "colorbar": {
              "outlinewidth": 0,
              "ticks": ""
             }
            },
            "type": "scattercarpet"
           }
          ],
          "scattergeo": [
           {
            "marker": {
             "colorbar": {
              "outlinewidth": 0,
              "ticks": ""
             }
            },
            "type": "scattergeo"
           }
          ],
          "scattergl": [
           {
            "marker": {
             "colorbar": {
              "outlinewidth": 0,
              "ticks": ""
             }
            },
            "type": "scattergl"
           }
          ],
          "scattermapbox": [
           {
            "marker": {
             "colorbar": {
              "outlinewidth": 0,
              "ticks": ""
             }
            },
            "type": "scattermapbox"
           }
          ],
          "scatterpolar": [
           {
            "marker": {
             "colorbar": {
              "outlinewidth": 0,
              "ticks": ""
             }
            },
            "type": "scatterpolar"
           }
          ],
          "scatterpolargl": [
           {
            "marker": {
             "colorbar": {
              "outlinewidth": 0,
              "ticks": ""
             }
            },
            "type": "scatterpolargl"
           }
          ],
          "scatterternary": [
           {
            "marker": {
             "colorbar": {
              "outlinewidth": 0,
              "ticks": ""
             }
            },
            "type": "scatterternary"
           }
          ],
          "surface": [
           {
            "colorbar": {
             "outlinewidth": 0,
             "ticks": ""
            },
            "colorscale": [
             [
              0,
              "#0d0887"
             ],
             [
              0.1111111111111111,
              "#46039f"
             ],
             [
              0.2222222222222222,
              "#7201a8"
             ],
             [
              0.3333333333333333,
              "#9c179e"
             ],
             [
              0.4444444444444444,
              "#bd3786"
             ],
             [
              0.5555555555555556,
              "#d8576b"
             ],
             [
              0.6666666666666666,
              "#ed7953"
             ],
             [
              0.7777777777777778,
              "#fb9f3a"
             ],
             [
              0.8888888888888888,
              "#fdca26"
             ],
             [
              1,
              "#f0f921"
             ]
            ],
            "type": "surface"
           }
          ],
          "table": [
           {
            "cells": {
             "fill": {
              "color": "#EBF0F8"
             },
             "line": {
              "color": "white"
             }
            },
            "header": {
             "fill": {
              "color": "#C8D4E3"
             },
             "line": {
              "color": "white"
             }
            },
            "type": "table"
           }
          ]
         },
         "layout": {
          "annotationdefaults": {
           "arrowcolor": "#2a3f5f",
           "arrowhead": 0,
           "arrowwidth": 1
          },
          "autotypenumbers": "strict",
          "coloraxis": {
           "colorbar": {
            "outlinewidth": 0,
            "ticks": ""
           }
          },
          "colorscale": {
           "diverging": [
            [
             0,
             "#8e0152"
            ],
            [
             0.1,
             "#c51b7d"
            ],
            [
             0.2,
             "#de77ae"
            ],
            [
             0.3,
             "#f1b6da"
            ],
            [
             0.4,
             "#fde0ef"
            ],
            [
             0.5,
             "#f7f7f7"
            ],
            [
             0.6,
             "#e6f5d0"
            ],
            [
             0.7,
             "#b8e186"
            ],
            [
             0.8,
             "#7fbc41"
            ],
            [
             0.9,
             "#4d9221"
            ],
            [
             1,
             "#276419"
            ]
           ],
           "sequential": [
            [
             0,
             "#0d0887"
            ],
            [
             0.1111111111111111,
             "#46039f"
            ],
            [
             0.2222222222222222,
             "#7201a8"
            ],
            [
             0.3333333333333333,
             "#9c179e"
            ],
            [
             0.4444444444444444,
             "#bd3786"
            ],
            [
             0.5555555555555556,
             "#d8576b"
            ],
            [
             0.6666666666666666,
             "#ed7953"
            ],
            [
             0.7777777777777778,
             "#fb9f3a"
            ],
            [
             0.8888888888888888,
             "#fdca26"
            ],
            [
             1,
             "#f0f921"
            ]
           ],
           "sequentialminus": [
            [
             0,
             "#0d0887"
            ],
            [
             0.1111111111111111,
             "#46039f"
            ],
            [
             0.2222222222222222,
             "#7201a8"
            ],
            [
             0.3333333333333333,
             "#9c179e"
            ],
            [
             0.4444444444444444,
             "#bd3786"
            ],
            [
             0.5555555555555556,
             "#d8576b"
            ],
            [
             0.6666666666666666,
             "#ed7953"
            ],
            [
             0.7777777777777778,
             "#fb9f3a"
            ],
            [
             0.8888888888888888,
             "#fdca26"
            ],
            [
             1,
             "#f0f921"
            ]
           ]
          },
          "colorway": [
           "#636efa",
           "#EF553B",
           "#00cc96",
           "#ab63fa",
           "#FFA15A",
           "#19d3f3",
           "#FF6692",
           "#B6E880",
           "#FF97FF",
           "#FECB52"
          ],
          "font": {
           "color": "#2a3f5f"
          },
          "geo": {
           "bgcolor": "white",
           "lakecolor": "white",
           "landcolor": "#E5ECF6",
           "showlakes": true,
           "showland": true,
           "subunitcolor": "white"
          },
          "hoverlabel": {
           "align": "left"
          },
          "hovermode": "closest",
          "mapbox": {
           "style": "light"
          },
          "paper_bgcolor": "white",
          "plot_bgcolor": "#E5ECF6",
          "polar": {
           "angularaxis": {
            "gridcolor": "white",
            "linecolor": "white",
            "ticks": ""
           },
           "bgcolor": "#E5ECF6",
           "radialaxis": {
            "gridcolor": "white",
            "linecolor": "white",
            "ticks": ""
           }
          },
          "scene": {
           "xaxis": {
            "backgroundcolor": "#E5ECF6",
            "gridcolor": "white",
            "gridwidth": 2,
            "linecolor": "white",
            "showbackground": true,
            "ticks": "",
            "zerolinecolor": "white"
           },
           "yaxis": {
            "backgroundcolor": "#E5ECF6",
            "gridcolor": "white",
            "gridwidth": 2,
            "linecolor": "white",
            "showbackground": true,
            "ticks": "",
            "zerolinecolor": "white"
           },
           "zaxis": {
            "backgroundcolor": "#E5ECF6",
            "gridcolor": "white",
            "gridwidth": 2,
            "linecolor": "white",
            "showbackground": true,
            "ticks": "",
            "zerolinecolor": "white"
           }
          },
          "shapedefaults": {
           "line": {
            "color": "#2a3f5f"
           }
          },
          "ternary": {
           "aaxis": {
            "gridcolor": "white",
            "linecolor": "white",
            "ticks": ""
           },
           "baxis": {
            "gridcolor": "white",
            "linecolor": "white",
            "ticks": ""
           },
           "bgcolor": "#E5ECF6",
           "caxis": {
            "gridcolor": "white",
            "linecolor": "white",
            "ticks": ""
           }
          },
          "title": {
           "x": 0.05
          },
          "xaxis": {
           "automargin": true,
           "gridcolor": "white",
           "linecolor": "white",
           "ticks": "",
           "title": {
            "standoff": 15
           },
           "zerolinecolor": "white",
           "zerolinewidth": 2
          },
          "yaxis": {
           "automargin": true,
           "gridcolor": "white",
           "linecolor": "white",
           "ticks": "",
           "title": {
            "standoff": 15
           },
           "zerolinecolor": "white",
           "zerolinewidth": 2
          }
         }
        },
        "title": {
         "text": "Impact of different values for batch_size, delta and epsilon parameters (Adult dataset)"
        },
        "width": 1000,
        "xaxis": {
         "anchor": "y",
         "domain": [
          0,
          0.45
         ],
         "title": {
          "text": "Batch Size"
         }
        },
        "xaxis2": {
         "anchor": "y2",
         "domain": [
          0.55,
          1
         ],
         "title": {
          "text": "Batch Size"
         }
        },
        "xaxis3": {
         "anchor": "y3",
         "domain": [
          0,
          0.45
         ],
         "title": {
          "text": "Delta"
         }
        },
        "xaxis4": {
         "anchor": "y4",
         "domain": [
          0.55,
          1
         ],
         "title": {
          "text": "Delta"
         }
        },
        "xaxis5": {
         "anchor": "y5",
         "domain": [
          0,
          0.45
         ],
         "title": {
          "text": "Epsilon"
         }
        },
        "xaxis6": {
         "anchor": "y6",
         "domain": [
          0.55,
          1
         ],
         "title": {
          "text": "Epsilon"
         }
        },
        "yaxis": {
         "anchor": "x",
         "domain": [
          0.7333333333333333,
          1
         ],
         "title": {
          "text": "Coverage"
         }
        },
        "yaxis2": {
         "anchor": "x2",
         "domain": [
          0.7333333333333333,
          1
         ],
         "title": {
          "text": "Search Time (sec)"
         }
        },
        "yaxis3": {
         "anchor": "x3",
         "domain": [
          0.36666666666666664,
          0.6333333333333333
         ],
         "title": {
          "text": "Coverage"
         }
        },
        "yaxis4": {
         "anchor": "x4",
         "domain": [
          0.36666666666666664,
          0.6333333333333333
         ],
         "title": {
          "text": "Search Time (sec)"
         }
        },
        "yaxis5": {
         "anchor": "x5",
         "domain": [
          0,
          0.26666666666666666
         ],
         "title": {
          "text": "Coverage"
         }
        },
        "yaxis6": {
         "anchor": "x6",
         "domain": [
          0,
          0.26666666666666666
         ],
         "title": {
          "text": "Search Time (sec)"
         }
        }
       }
      }
     },
     "metadata": {},
     "output_type": "display_data"
    },
    {
     "data": {
      "application/vnd.plotly.v1+json": {
       "config": {
        "plotlyServerURL": "https://plot.ly"
       },
       "data": [
        {
         "hovertemplate": "parameter=batch_size<br>precision=%{x}<br>coverage=%{y}<br>search_duration=%{z}<extra></extra>",
         "legendgroup": "batch_size",
         "marker": {
          "color": "#636efa",
          "symbol": "circle"
         },
         "mode": "markers",
         "name": "batch_size",
         "scene": "scene",
         "showlegend": true,
         "type": "scatter3d",
         "x": [
          0.9111001964636544,
          0.913157894736842,
          0.9045307443365695,
          0.9197303921568628,
          0.9090909090909092,
          0.9028846153846154,
          0.9084051724137931,
          0.9119791666666668,
          0.9020579268292684,
          0.9091435185185184,
          0.9011948529411764,
          0.90625,
          0.90625,
          0.902529761904762,
          0.903515625,
          0.9018998579545454,
          0.9059244791666666,
          0.903781213898516
         ],
         "y": [
          0.17,
          0.07,
          0.17,
          0.06,
          0.17,
          0.17,
          0.17,
          0.17,
          0.17,
          0.17,
          0.07,
          0.17,
          0.44,
          0.17,
          0.17,
          0.17,
          0.17,
          0.17
         ],
         "z": [
          244.24522709846497,
          92.90398740768433,
          60.543439626693726,
          48.36726665496826,
          38.10965538024902,
          32.58893609046936,
          25.402694940567017,
          17.649266242980957,
          14.115131378173828,
          9.77678108215332,
          8.134850978851318,
          6.147704362869263,
          4.809021711349487,
          5.641199827194214,
          5.870367765426636,
          5.266568183898926,
          5.288073539733887,
          5.342414379119873
         ]
        },
        {
         "hovertemplate": "parameter=delta<br>precision=%{x}<br>coverage=%{y}<br>search_duration=%{z}<extra></extra>",
         "legendgroup": "delta",
         "marker": {
          "color": "#EF553B",
          "symbol": "circle"
         },
         "mode": "markers",
         "name": "delta",
         "scene": "scene",
         "showlegend": true,
         "type": "scatter3d",
         "x": [
          0.9197303921568628,
          0.9197303921568628,
          0.9197303921568628,
          0.9197303921568628,
          0.9197303921568628,
          0.9197303921568628,
          0.9197303921568628,
          0.9197303921568628,
          0.9197303921568628,
          0.9197303921568628,
          0.9197303921568628,
          0.9197303921568628,
          0.9197303921568628,
          0.9197303921568628,
          0.9197303921568628,
          0.9197303921568628,
          0.9197303921568628,
          0.9197303921568628,
          0.9197303921568628
         ],
         "y": [
          0.06,
          0.06,
          0.06,
          0.06,
          0.06,
          0.06,
          0.06,
          0.06,
          0.06,
          0.06,
          0.06,
          0.06,
          0.06,
          0.06,
          0.06,
          0.06,
          0.06,
          0.06,
          0.06
         ],
         "z": [
          48.23134112358093,
          48.3665988445282,
          48.008540630340576,
          47.772393465042114,
          47.80950999259949,
          48.20719885826111,
          48.579137086868286,
          49.53904438018799,
          49.45793795585632,
          49.658467292785645,
          49.58041596412659,
          49.3303918838501,
          49.85998845100403,
          49.51608037948608,
          49.604743003845215,
          49.460278272628784,
          49.5639877319336,
          49.40539908409119,
          49.44799399375916
         ]
        },
        {
         "hovertemplate": "parameter=epsilon<br>precision=%{x}<br>coverage=%{y}<br>search_duration=%{z}<extra></extra>",
         "legendgroup": "epsilon",
         "marker": {
          "color": "#00cc96",
          "symbol": "circle"
         },
         "mode": "markers",
         "name": "epsilon",
         "scene": "scene",
         "showlegend": true,
         "type": "scatter3d",
         "x": [
          0.9038874570446735,
          0.9197303921568628,
          0.9027777777777778,
          0.925,
          0.9285714285714286,
          0.9191176470588236,
          0.9201388888888888,
          0.9444444444444444,
          1,
          0.975,
          0.9444444444444444,
          0.9051724137931034,
          0.9553571428571428,
          0.90625,
          0.9444444444444444,
          1,
          1,
          0.975,
          0.94375
         ],
         "y": [
          0.17,
          0.06,
          0.44,
          0.29,
          0.44,
          0.42,
          0.14,
          0.17,
          0.01,
          0.04,
          0.14,
          0.02,
          0.04,
          0,
          0,
          0,
          0,
          0,
          0
         ],
         "z": [
          146.72343134880066,
          49.688050746917725,
          15.84531044960022,
          16.361902952194214,
          7.567407369613647,
          9.139840602874756,
          7.07924747467041,
          4.847908973693848,
          9.811727046966553,
          3.884579181671143,
          4.7295873165130615,
          6.2407402992248535,
          4.621754169464111,
          6.578073501586914,
          5.449353456497192,
          4.486458778381348,
          4.068099498748779,
          3.434569358825684,
          4.198592185974121
         ]
        }
       ],
       "layout": {
        "legend": {
         "title": {
          "text": "parameter"
         },
         "tracegroupgap": 0
        },
        "margin": {
         "t": 60
        },
        "scene": {
         "domain": {
          "x": [
           0,
           1
          ],
          "y": [
           0,
           1
          ]
         },
         "xaxis": {
          "title": {
           "text": "precision"
          }
         },
         "yaxis": {
          "title": {
           "text": "coverage"
          }
         },
         "zaxis": {
          "title": {
           "text": "search_duration"
          }
         }
        },
        "template": {
         "data": {
          "bar": [
           {
            "error_x": {
             "color": "#2a3f5f"
            },
            "error_y": {
             "color": "#2a3f5f"
            },
            "marker": {
             "line": {
              "color": "#E5ECF6",
              "width": 0.5
             },
             "pattern": {
              "fillmode": "overlay",
              "size": 10,
              "solidity": 0.2
             }
            },
            "type": "bar"
           }
          ],
          "barpolar": [
           {
            "marker": {
             "line": {
              "color": "#E5ECF6",
              "width": 0.5
             },
             "pattern": {
              "fillmode": "overlay",
              "size": 10,
              "solidity": 0.2
             }
            },
            "type": "barpolar"
           }
          ],
          "carpet": [
           {
            "aaxis": {
             "endlinecolor": "#2a3f5f",
             "gridcolor": "white",
             "linecolor": "white",
             "minorgridcolor": "white",
             "startlinecolor": "#2a3f5f"
            },
            "baxis": {
             "endlinecolor": "#2a3f5f",
             "gridcolor": "white",
             "linecolor": "white",
             "minorgridcolor": "white",
             "startlinecolor": "#2a3f5f"
            },
            "type": "carpet"
           }
          ],
          "choropleth": [
           {
            "colorbar": {
             "outlinewidth": 0,
             "ticks": ""
            },
            "type": "choropleth"
           }
          ],
          "contour": [
           {
            "colorbar": {
             "outlinewidth": 0,
             "ticks": ""
            },
            "colorscale": [
             [
              0,
              "#0d0887"
             ],
             [
              0.1111111111111111,
              "#46039f"
             ],
             [
              0.2222222222222222,
              "#7201a8"
             ],
             [
              0.3333333333333333,
              "#9c179e"
             ],
             [
              0.4444444444444444,
              "#bd3786"
             ],
             [
              0.5555555555555556,
              "#d8576b"
             ],
             [
              0.6666666666666666,
              "#ed7953"
             ],
             [
              0.7777777777777778,
              "#fb9f3a"
             ],
             [
              0.8888888888888888,
              "#fdca26"
             ],
             [
              1,
              "#f0f921"
             ]
            ],
            "type": "contour"
           }
          ],
          "contourcarpet": [
           {
            "colorbar": {
             "outlinewidth": 0,
             "ticks": ""
            },
            "type": "contourcarpet"
           }
          ],
          "heatmap": [
           {
            "colorbar": {
             "outlinewidth": 0,
             "ticks": ""
            },
            "colorscale": [
             [
              0,
              "#0d0887"
             ],
             [
              0.1111111111111111,
              "#46039f"
             ],
             [
              0.2222222222222222,
              "#7201a8"
             ],
             [
              0.3333333333333333,
              "#9c179e"
             ],
             [
              0.4444444444444444,
              "#bd3786"
             ],
             [
              0.5555555555555556,
              "#d8576b"
             ],
             [
              0.6666666666666666,
              "#ed7953"
             ],
             [
              0.7777777777777778,
              "#fb9f3a"
             ],
             [
              0.8888888888888888,
              "#fdca26"
             ],
             [
              1,
              "#f0f921"
             ]
            ],
            "type": "heatmap"
           }
          ],
          "heatmapgl": [
           {
            "colorbar": {
             "outlinewidth": 0,
             "ticks": ""
            },
            "colorscale": [
             [
              0,
              "#0d0887"
             ],
             [
              0.1111111111111111,
              "#46039f"
             ],
             [
              0.2222222222222222,
              "#7201a8"
             ],
             [
              0.3333333333333333,
              "#9c179e"
             ],
             [
              0.4444444444444444,
              "#bd3786"
             ],
             [
              0.5555555555555556,
              "#d8576b"
             ],
             [
              0.6666666666666666,
              "#ed7953"
             ],
             [
              0.7777777777777778,
              "#fb9f3a"
             ],
             [
              0.8888888888888888,
              "#fdca26"
             ],
             [
              1,
              "#f0f921"
             ]
            ],
            "type": "heatmapgl"
           }
          ],
          "histogram": [
           {
            "marker": {
             "pattern": {
              "fillmode": "overlay",
              "size": 10,
              "solidity": 0.2
             }
            },
            "type": "histogram"
           }
          ],
          "histogram2d": [
           {
            "colorbar": {
             "outlinewidth": 0,
             "ticks": ""
            },
            "colorscale": [
             [
              0,
              "#0d0887"
             ],
             [
              0.1111111111111111,
              "#46039f"
             ],
             [
              0.2222222222222222,
              "#7201a8"
             ],
             [
              0.3333333333333333,
              "#9c179e"
             ],
             [
              0.4444444444444444,
              "#bd3786"
             ],
             [
              0.5555555555555556,
              "#d8576b"
             ],
             [
              0.6666666666666666,
              "#ed7953"
             ],
             [
              0.7777777777777778,
              "#fb9f3a"
             ],
             [
              0.8888888888888888,
              "#fdca26"
             ],
             [
              1,
              "#f0f921"
             ]
            ],
            "type": "histogram2d"
           }
          ],
          "histogram2dcontour": [
           {
            "colorbar": {
             "outlinewidth": 0,
             "ticks": ""
            },
            "colorscale": [
             [
              0,
              "#0d0887"
             ],
             [
              0.1111111111111111,
              "#46039f"
             ],
             [
              0.2222222222222222,
              "#7201a8"
             ],
             [
              0.3333333333333333,
              "#9c179e"
             ],
             [
              0.4444444444444444,
              "#bd3786"
             ],
             [
              0.5555555555555556,
              "#d8576b"
             ],
             [
              0.6666666666666666,
              "#ed7953"
             ],
             [
              0.7777777777777778,
              "#fb9f3a"
             ],
             [
              0.8888888888888888,
              "#fdca26"
             ],
             [
              1,
              "#f0f921"
             ]
            ],
            "type": "histogram2dcontour"
           }
          ],
          "mesh3d": [
           {
            "colorbar": {
             "outlinewidth": 0,
             "ticks": ""
            },
            "type": "mesh3d"
           }
          ],
          "parcoords": [
           {
            "line": {
             "colorbar": {
              "outlinewidth": 0,
              "ticks": ""
             }
            },
            "type": "parcoords"
           }
          ],
          "pie": [
           {
            "automargin": true,
            "type": "pie"
           }
          ],
          "scatter": [
           {
            "marker": {
             "colorbar": {
              "outlinewidth": 0,
              "ticks": ""
             }
            },
            "type": "scatter"
           }
          ],
          "scatter3d": [
           {
            "line": {
             "colorbar": {
              "outlinewidth": 0,
              "ticks": ""
             }
            },
            "marker": {
             "colorbar": {
              "outlinewidth": 0,
              "ticks": ""
             }
            },
            "type": "scatter3d"
           }
          ],
          "scattercarpet": [
           {
            "marker": {
             "colorbar": {
              "outlinewidth": 0,
              "ticks": ""
             }
            },
            "type": "scattercarpet"
           }
          ],
          "scattergeo": [
           {
            "marker": {
             "colorbar": {
              "outlinewidth": 0,
              "ticks": ""
             }
            },
            "type": "scattergeo"
           }
          ],
          "scattergl": [
           {
            "marker": {
             "colorbar": {
              "outlinewidth": 0,
              "ticks": ""
             }
            },
            "type": "scattergl"
           }
          ],
          "scattermapbox": [
           {
            "marker": {
             "colorbar": {
              "outlinewidth": 0,
              "ticks": ""
             }
            },
            "type": "scattermapbox"
           }
          ],
          "scatterpolar": [
           {
            "marker": {
             "colorbar": {
              "outlinewidth": 0,
              "ticks": ""
             }
            },
            "type": "scatterpolar"
           }
          ],
          "scatterpolargl": [
           {
            "marker": {
             "colorbar": {
              "outlinewidth": 0,
              "ticks": ""
             }
            },
            "type": "scatterpolargl"
           }
          ],
          "scatterternary": [
           {
            "marker": {
             "colorbar": {
              "outlinewidth": 0,
              "ticks": ""
             }
            },
            "type": "scatterternary"
           }
          ],
          "surface": [
           {
            "colorbar": {
             "outlinewidth": 0,
             "ticks": ""
            },
            "colorscale": [
             [
              0,
              "#0d0887"
             ],
             [
              0.1111111111111111,
              "#46039f"
             ],
             [
              0.2222222222222222,
              "#7201a8"
             ],
             [
              0.3333333333333333,
              "#9c179e"
             ],
             [
              0.4444444444444444,
              "#bd3786"
             ],
             [
              0.5555555555555556,
              "#d8576b"
             ],
             [
              0.6666666666666666,
              "#ed7953"
             ],
             [
              0.7777777777777778,
              "#fb9f3a"
             ],
             [
              0.8888888888888888,
              "#fdca26"
             ],
             [
              1,
              "#f0f921"
             ]
            ],
            "type": "surface"
           }
          ],
          "table": [
           {
            "cells": {
             "fill": {
              "color": "#EBF0F8"
             },
             "line": {
              "color": "white"
             }
            },
            "header": {
             "fill": {
              "color": "#C8D4E3"
             },
             "line": {
              "color": "white"
             }
            },
            "type": "table"
           }
          ]
         },
         "layout": {
          "annotationdefaults": {
           "arrowcolor": "#2a3f5f",
           "arrowhead": 0,
           "arrowwidth": 1
          },
          "autotypenumbers": "strict",
          "coloraxis": {
           "colorbar": {
            "outlinewidth": 0,
            "ticks": ""
           }
          },
          "colorscale": {
           "diverging": [
            [
             0,
             "#8e0152"
            ],
            [
             0.1,
             "#c51b7d"
            ],
            [
             0.2,
             "#de77ae"
            ],
            [
             0.3,
             "#f1b6da"
            ],
            [
             0.4,
             "#fde0ef"
            ],
            [
             0.5,
             "#f7f7f7"
            ],
            [
             0.6,
             "#e6f5d0"
            ],
            [
             0.7,
             "#b8e186"
            ],
            [
             0.8,
             "#7fbc41"
            ],
            [
             0.9,
             "#4d9221"
            ],
            [
             1,
             "#276419"
            ]
           ],
           "sequential": [
            [
             0,
             "#0d0887"
            ],
            [
             0.1111111111111111,
             "#46039f"
            ],
            [
             0.2222222222222222,
             "#7201a8"
            ],
            [
             0.3333333333333333,
             "#9c179e"
            ],
            [
             0.4444444444444444,
             "#bd3786"
            ],
            [
             0.5555555555555556,
             "#d8576b"
            ],
            [
             0.6666666666666666,
             "#ed7953"
            ],
            [
             0.7777777777777778,
             "#fb9f3a"
            ],
            [
             0.8888888888888888,
             "#fdca26"
            ],
            [
             1,
             "#f0f921"
            ]
           ],
           "sequentialminus": [
            [
             0,
             "#0d0887"
            ],
            [
             0.1111111111111111,
             "#46039f"
            ],
            [
             0.2222222222222222,
             "#7201a8"
            ],
            [
             0.3333333333333333,
             "#9c179e"
            ],
            [
             0.4444444444444444,
             "#bd3786"
            ],
            [
             0.5555555555555556,
             "#d8576b"
            ],
            [
             0.6666666666666666,
             "#ed7953"
            ],
            [
             0.7777777777777778,
             "#fb9f3a"
            ],
            [
             0.8888888888888888,
             "#fdca26"
            ],
            [
             1,
             "#f0f921"
            ]
           ]
          },
          "colorway": [
           "#636efa",
           "#EF553B",
           "#00cc96",
           "#ab63fa",
           "#FFA15A",
           "#19d3f3",
           "#FF6692",
           "#B6E880",
           "#FF97FF",
           "#FECB52"
          ],
          "font": {
           "color": "#2a3f5f"
          },
          "geo": {
           "bgcolor": "white",
           "lakecolor": "white",
           "landcolor": "#E5ECF6",
           "showlakes": true,
           "showland": true,
           "subunitcolor": "white"
          },
          "hoverlabel": {
           "align": "left"
          },
          "hovermode": "closest",
          "mapbox": {
           "style": "light"
          },
          "paper_bgcolor": "white",
          "plot_bgcolor": "#E5ECF6",
          "polar": {
           "angularaxis": {
            "gridcolor": "white",
            "linecolor": "white",
            "ticks": ""
           },
           "bgcolor": "#E5ECF6",
           "radialaxis": {
            "gridcolor": "white",
            "linecolor": "white",
            "ticks": ""
           }
          },
          "scene": {
           "xaxis": {
            "backgroundcolor": "#E5ECF6",
            "gridcolor": "white",
            "gridwidth": 2,
            "linecolor": "white",
            "showbackground": true,
            "ticks": "",
            "zerolinecolor": "white"
           },
           "yaxis": {
            "backgroundcolor": "#E5ECF6",
            "gridcolor": "white",
            "gridwidth": 2,
            "linecolor": "white",
            "showbackground": true,
            "ticks": "",
            "zerolinecolor": "white"
           },
           "zaxis": {
            "backgroundcolor": "#E5ECF6",
            "gridcolor": "white",
            "gridwidth": 2,
            "linecolor": "white",
            "showbackground": true,
            "ticks": "",
            "zerolinecolor": "white"
           }
          },
          "shapedefaults": {
           "line": {
            "color": "#2a3f5f"
           }
          },
          "ternary": {
           "aaxis": {
            "gridcolor": "white",
            "linecolor": "white",
            "ticks": ""
           },
           "baxis": {
            "gridcolor": "white",
            "linecolor": "white",
            "ticks": ""
           },
           "bgcolor": "#E5ECF6",
           "caxis": {
            "gridcolor": "white",
            "linecolor": "white",
            "ticks": ""
           }
          },
          "title": {
           "x": 0.05
          },
          "xaxis": {
           "automargin": true,
           "gridcolor": "white",
           "linecolor": "white",
           "ticks": "",
           "title": {
            "standoff": 15
           },
           "zerolinecolor": "white",
           "zerolinewidth": 2
          },
          "yaxis": {
           "automargin": true,
           "gridcolor": "white",
           "linecolor": "white",
           "ticks": "",
           "title": {
            "standoff": 15
           },
           "zerolinecolor": "white",
           "zerolinewidth": 2
          }
         }
        }
       }
      }
     },
     "metadata": {},
     "output_type": "display_data"
    }
   ],
   "source": [
    "# Analysis Part\n",
    "import pandas as pd\n",
    "import plotly.express as px\n",
    "import plotly.graph_objs as go\n",
    "from plotly.subplots import make_subplots\n",
    "\n",
    "df = pd.read_csv(\"hyperparams.csv\")\n",
    "print(df.head())\n",
    "\n",
    "fig = make_subplots(\n",
    "    rows=3, cols=2,\n",
    ")\n",
    "\n",
    "df_batch = df[df['parameter']=='batch_size']\n",
    "df_delta = df[df['parameter']=='delta']\n",
    "df_eps = df[df['parameter']=='epsilon']\n",
    "\n",
    "trace_batch_cov = go.Scatter(\n",
    "    x=df_batch.value,\n",
    "    y=df_batch.coverage,\n",
    "    mode='markers',\n",
    "    name='Coverage x Batch Size'\n",
    ")\n",
    "trace_delta_cov = go.Scatter(\n",
    "    x=df_delta.value,\n",
    "    y=df_delta.coverage,\n",
    "    mode='markers',\n",
    "    name='Coverage x Delta'\n",
    ")\n",
    "trace_eps_cov = go.Scatter(\n",
    "    x=df_eps.value,\n",
    "    y=df_eps.coverage,\n",
    "    mode='markers',\n",
    "    name='Coverage x Epsilon'\n",
    ")\n",
    "trace_batch_dur = go.Scatter(\n",
    "    x=df_batch.value,\n",
    "    y=df_batch.search_duration,\n",
    "    mode='markers',\n",
    "    name='Search Time x Batch Size'\n",
    ")\n",
    "trace_delta_dur = go.Scatter(\n",
    "    x=df_delta.value,\n",
    "    y=df_delta.search_duration,\n",
    "    mode='markers',\n",
    "    name='Search Time x Delta'\n",
    ")\n",
    "trace_eps_dur = go.Scatter(\n",
    "    x=df_eps.value,\n",
    "    y=df_eps.search_duration,\n",
    "    mode='markers',\n",
    "    name='Search Time x Epsilon'\n",
    ")\n",
    "\n",
    "fig.add_trace(trace_batch_cov, row=1, col=1)\n",
    "fig.add_trace(trace_delta_cov, row=2, col=1)\n",
    "fig.add_trace(trace_eps_cov, row=3, col=1)\n",
    "fig.add_trace(trace_batch_dur, row=1, col=2)\n",
    "fig.add_trace(trace_delta_dur, row=2, col=2)\n",
    "fig.add_trace(trace_eps_dur, row=3, col=2)\n",
    "\n",
    "\n",
    "fig.update_layout(\n",
    "    title_text='Impact of different values for batch_size, delta and epsilon parameters (Adult dataset)',\n",
    "    height=800,\n",
    "    width=1000\n",
    ")\n",
    "\n",
    "fig['layout']['xaxis']['title'] = 'Batch Size'\n",
    "fig['layout']['xaxis2']['title'] = 'Batch Size'\n",
    "fig['layout']['xaxis3']['title'] = 'Delta'\n",
    "fig['layout']['xaxis4']['title'] = 'Delta'\n",
    "fig['layout']['xaxis5']['title'] = 'Epsilon'\n",
    "fig['layout']['xaxis6']['title'] = 'Epsilon'\n",
    "fig['layout']['yaxis']['title'] = 'Coverage'\n",
    "fig['layout']['yaxis2']['title'] = 'Search Time (sec)'\n",
    "fig['layout']['yaxis3']['title'] = 'Coverage'\n",
    "fig['layout']['yaxis4']['title'] = 'Search Time (sec)'\n",
    "fig['layout']['yaxis5']['title'] = 'Coverage'\n",
    "fig['layout']['yaxis6']['title'] = 'Search Time (sec)'\n",
    "\n",
    "fig.show()\n",
    "\n",
    "fig = px.scatter_3d(df, x='precision', y='coverage', z='search_duration',\n",
    "              color='parameter')\n",
    "fig.show()\n"
   ]
  },
  {
   "cell_type": "code",
   "execution_count": null,
   "metadata": {},
   "outputs": [],
   "source": []
  },
  {
   "cell_type": "code",
   "execution_count": null,
   "metadata": {},
   "outputs": [],
   "source": []
  }
 ],
 "metadata": {
  "interpreter": {
   "hash": "1ee014a394539ea33a681f57bab852aba5460f711bf7a82fe5b61ba0c6bc8483"
  },
  "kernelspec": {
   "display_name": "Python 3.9.7 ('iML')",
   "language": "python",
   "name": "python3"
  },
  "language_info": {
   "codemirror_mode": {
    "name": "ipython",
    "version": 3
   },
   "file_extension": ".py",
   "mimetype": "text/x-python",
   "name": "python",
   "nbconvert_exporter": "python",
   "pygments_lexer": "ipython3",
   "version": "3.9.7"
  },
  "orig_nbformat": 4
 },
 "nbformat": 4,
 "nbformat_minor": 2
}
