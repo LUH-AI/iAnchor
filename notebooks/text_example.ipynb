{
 "cells": [
  {
   "cell_type": "code",
   "execution_count": 1,
   "metadata": {},
   "outputs": [],
   "source": [
    "%load_ext autoreload\n",
    "%autoreload 2\n",
    "\n",
    "import os\n",
    "import os.path\n",
    "import numpy as np\n",
    "import sklearn\n",
    "import sklearn.model_selection\n",
    "import sklearn.linear_model\n",
    "import sklearn.ensemble\n",
    "import spacy\n",
    "import sys\n",
    "from sklearn.feature_extraction.text import CountVectorizer\n",
    "\n",
    "module_path = os.path.abspath(os.path.join('..'))\n",
    "if module_path not in sys.path:\n",
    "    sys.path.append(module_path)\n",
    "from Anchor.anchor import Anchor, Tasktype\n",
    "\n",
    "np.random.seed(1)"
   ]
  },
  {
   "cell_type": "code",
   "execution_count": 2,
   "metadata": {},
   "outputs": [],
   "source": [
    "# dataset from http://www.cs.cornell.edu/people/pabo/movie-review-data/\n",
    "# Link: http://www.cs.cornell.edu/people/pabo/movie-review-data/rt-polaritydata.tar.gz\n",
    "def load_polarity(path='/home/kevin/iml-ws21-projects-risingnumpygods/datasets/rt-polaritydata/'):\n",
    "    data = []\n",
    "    labels = []\n",
    "    f_names = ['rt-polarity.neg', 'rt-polarity.pos']\n",
    "    for (l, f) in enumerate(f_names):\n",
    "        for line in open(os.path.join(path, f), 'rb'):\n",
    "            try:\n",
    "                line.decode('utf8')\n",
    "            except:\n",
    "                continue\n",
    "            data.append(line.strip())\n",
    "            labels.append(l)\n",
    "    return data, labels"
   ]
  },
  {
   "cell_type": "code",
   "execution_count": 3,
   "metadata": {},
   "outputs": [],
   "source": [
    "nlp = spacy.load('en_core_web_sm')"
   ]
  },
  {
   "cell_type": "code",
   "execution_count": 4,
   "metadata": {},
   "outputs": [],
   "source": [
    "data, labels = load_polarity()\n",
    "train, test, train_labels, test_labels = sklearn.model_selection.train_test_split(data, labels, test_size=.2, random_state=42)\n",
    "train, val, train_labels, val_labels = sklearn.model_selection.train_test_split(train, train_labels, test_size=.1, random_state=42)\n",
    "train_labels = np.array(train_labels)\n",
    "test_labels = np.array(test_labels)\n",
    "val_labels = np.array(val_labels)\n",
    "\n",
    "vectorizer = CountVectorizer(min_df=1)\n",
    "vectorizer.fit(train)\n",
    "train_vectors = vectorizer.transform(train)\n",
    "test_vectors = vectorizer.transform(test)\n",
    "val_vectors = vectorizer.transform(val)"
   ]
  },
  {
   "cell_type": "code",
   "execution_count": 5,
   "metadata": {},
   "outputs": [
    {
     "name": "stdout",
     "output_type": "stream",
     "text": [
      "Val accuracy 0.7544910179640718\n"
     ]
    },
    {
     "name": "stderr",
     "output_type": "stream",
     "text": [
      "/home/kevin/miniconda3/envs/iML/lib/python3.9/site-packages/sklearn/linear_model/_logistic.py:814: ConvergenceWarning: lbfgs failed to converge (status=1):\n",
      "STOP: TOTAL NO. of ITERATIONS REACHED LIMIT.\n",
      "\n",
      "Increase the number of iterations (max_iter) or scale the data as shown in:\n",
      "    https://scikit-learn.org/stable/modules/preprocessing.html\n",
      "Please also refer to the documentation for alternative solver options:\n",
      "    https://scikit-learn.org/stable/modules/linear_model.html#logistic-regression\n",
      "  n_iter_i = _check_optimize_result(\n"
     ]
    }
   ],
   "source": [
    "c = sklearn.linear_model.LogisticRegression()\n",
    "\n",
    "c.fit(train_vectors, train_labels)\n",
    "\n",
    "preds = c.predict(val_vectors)\n",
    "\n",
    "print('Val accuracy', sklearn.metrics.accuracy_score(val_labels, preds))\n",
    "\n",
    "def predict_lr(texts):\n",
    "    print(vectorizer.transform(texts))\n",
    "    return c.predict(vectorizer.transform(texts))"
   ]
  },
  {
   "cell_type": "code",
   "execution_count": 6,
   "metadata": {},
   "outputs": [
    {
     "ename": "TypeError",
     "evalue": "__init__() missing 1 required positional argument: 'nlp_object'",
     "output_type": "error",
     "traceback": [
      "\u001b[0;31m---------------------------------------------------------------------------\u001b[0m",
      "\u001b[0;31mTypeError\u001b[0m                                 Traceback (most recent call last)",
      "\u001b[1;32m/home/kevin/iml-ws21-projects-risingnumpygods/notebooks/text_example.ipynb Cell 6'\u001b[0m in \u001b[0;36m<module>\u001b[0;34m\u001b[0m\n\u001b[1;32m      <a href='vscode-notebook-cell://wsl%2Bubuntu/home/kevin/iml-ws21-projects-risingnumpygods/notebooks/text_example.ipynb#ch0000005vscode-remote?line=4'>5</a>\u001b[0m task_paras \u001b[39m=\u001b[39m {\u001b[39m\"\u001b[39m\u001b[39mnlp_object\u001b[39m\u001b[39m\"\u001b[39m: spacy\u001b[39m.\u001b[39mload(\u001b[39m\"\u001b[39m\u001b[39men_core_web_sm\u001b[39m\u001b[39m\"\u001b[39m)}\n\u001b[1;32m      <a href='vscode-notebook-cell://wsl%2Bubuntu/home/kevin/iml-ws21-projects-risingnumpygods/notebooks/text_example.ipynb#ch0000005vscode-remote?line=5'>6</a>\u001b[0m method_paras \u001b[39m=\u001b[39m {\u001b[39m\"\u001b[39m\u001b[39mbeam_size\u001b[39m\u001b[39m\"\u001b[39m: \u001b[39m1\u001b[39m, \u001b[39m\"\u001b[39m\u001b[39mdesired_confidence\u001b[39m\u001b[39m\"\u001b[39m: \u001b[39m0.8\u001b[39m}\n\u001b[0;32m----> <a href='vscode-notebook-cell://wsl%2Bubuntu/home/kevin/iml-ws21-projects-risingnumpygods/notebooks/text_example.ipynb#ch0000005vscode-remote?line=6'>7</a>\u001b[0m explainer\u001b[39m.\u001b[39;49mexplain_instance(\n\u001b[1;32m      <a href='vscode-notebook-cell://wsl%2Bubuntu/home/kevin/iml-ws21-projects-risingnumpygods/notebooks/text_example.ipynb#ch0000005vscode-remote?line=7'>8</a>\u001b[0m     text_to_be_explained,\n\u001b[1;32m      <a href='vscode-notebook-cell://wsl%2Bubuntu/home/kevin/iml-ws21-projects-risingnumpygods/notebooks/text_example.ipynb#ch0000005vscode-remote?line=8'>9</a>\u001b[0m     predict_lr,\n\u001b[1;32m     <a href='vscode-notebook-cell://wsl%2Bubuntu/home/kevin/iml-ws21-projects-risingnumpygods/notebooks/text_example.ipynb#ch0000005vscode-remote?line=9'>10</a>\u001b[0m     method\u001b[39m=\u001b[39;49m\u001b[39m\"\u001b[39;49m\u001b[39mbeam\u001b[39;49m\u001b[39m\"\u001b[39;49m,\n\u001b[1;32m     <a href='vscode-notebook-cell://wsl%2Bubuntu/home/kevin/iml-ws21-projects-risingnumpygods/notebooks/text_example.ipynb#ch0000005vscode-remote?line=10'>11</a>\u001b[0m     method_specific\u001b[39m=\u001b[39;49mmethod_paras,\n\u001b[1;32m     <a href='vscode-notebook-cell://wsl%2Bubuntu/home/kevin/iml-ws21-projects-risingnumpygods/notebooks/text_example.ipynb#ch0000005vscode-remote?line=11'>12</a>\u001b[0m     num_coverage_samples\u001b[39m=\u001b[39;49m\u001b[39m1\u001b[39;49m\n\u001b[1;32m     <a href='vscode-notebook-cell://wsl%2Bubuntu/home/kevin/iml-ws21-projects-risingnumpygods/notebooks/text_example.ipynb#ch0000005vscode-remote?line=12'>13</a>\u001b[0m )\n",
      "File \u001b[0;32m~/iml-ws21-projects-risingnumpygods/Anchor/anchor.py:86\u001b[0m, in \u001b[0;36mAnchor.explain_instance\u001b[0;34m(self, input, predict_fn, method, task_specific, method_specific, num_coverage_samples, epsilon, batch_size, verbose, seed)\u001b[0m\n\u001b[1;32m     <a href='file:///~/iml-ws21-projects-risingnumpygods/Anchor/anchor.py?line=82'>83</a>\u001b[0m     method_specific \u001b[39m=\u001b[39m {}\n\u001b[1;32m     <a href='file:///~/iml-ws21-projects-risingnumpygods/Anchor/anchor.py?line=84'>85</a>\u001b[0m \u001b[39mself\u001b[39m\u001b[39m.\u001b[39mkl_lucb \u001b[39m=\u001b[39m KL_LUCB(eps\u001b[39m=\u001b[39mepsilon, batch_size\u001b[39m=\u001b[39mbatch_size, verbose\u001b[39m=\u001b[39mverbose)\n\u001b[0;32m---> <a href='file:///~/iml-ws21-projects-risingnumpygods/Anchor/anchor.py?line=85'>86</a>\u001b[0m \u001b[39mself\u001b[39m\u001b[39m.\u001b[39msampler \u001b[39m=\u001b[39m Sampler\u001b[39m.\u001b[39;49mcreate(\u001b[39mself\u001b[39;49m\u001b[39m.\u001b[39;49mtasktype, \u001b[39minput\u001b[39;49m, predict_fn, task_specific)\n\u001b[1;32m     <a href='file:///~/iml-ws21-projects-risingnumpygods/Anchor/anchor.py?line=86'>87</a>\u001b[0m \u001b[39mself\u001b[39m\u001b[39m.\u001b[39mbatch_size \u001b[39m=\u001b[39m batch_size\n\u001b[1;32m     <a href='file:///~/iml-ws21-projects-risingnumpygods/Anchor/anchor.py?line=88'>89</a>\u001b[0m logging\u001b[39m.\u001b[39minfo(\u001b[39m\"\u001b[39m\u001b[39m Start Sampling\u001b[39m\u001b[39m\"\u001b[39m)\n",
      "File \u001b[0;32m~/iml-ws21-projects-risingnumpygods/Anchor/sampler.py:71\u001b[0m, in \u001b[0;36mSampler.create\u001b[0;34m(cls, type, input, predict_fn, task_specific, **kwargs)\u001b[0m\n\u001b[1;32m     <a href='file:///~/iml-ws21-projects-risingnumpygods/Anchor/sampler.py?line=67'>68</a>\u001b[0m \u001b[39mif\u001b[39;00m \u001b[39mtype\u001b[39m \u001b[39mnot\u001b[39;00m \u001b[39min\u001b[39;00m \u001b[39mcls\u001b[39m\u001b[39m.\u001b[39msubclasses:\n\u001b[1;32m     <a href='file:///~/iml-ws21-projects-risingnumpygods/Anchor/sampler.py?line=68'>69</a>\u001b[0m     \u001b[39mraise\u001b[39;00m \u001b[39mValueError\u001b[39;00m(\u001b[39m\"\u001b[39m\u001b[39mBad message type \u001b[39m\u001b[39m{}\u001b[39;00m\u001b[39m\"\u001b[39m\u001b[39m.\u001b[39mformat(\u001b[39mtype\u001b[39m))\n\u001b[0;32m---> <a href='file:///~/iml-ws21-projects-risingnumpygods/Anchor/sampler.py?line=70'>71</a>\u001b[0m \u001b[39mreturn\u001b[39;00m \u001b[39mcls\u001b[39;49m\u001b[39m.\u001b[39;49msubclasses[\u001b[39mtype\u001b[39;49m](\n\u001b[1;32m     <a href='file:///~/iml-ws21-projects-risingnumpygods/Anchor/sampler.py?line=71'>72</a>\u001b[0m     \u001b[39minput\u001b[39;49m, predict_fn, \u001b[39m*\u001b[39;49m\u001b[39m*\u001b[39;49mtask_specific\n\u001b[1;32m     <a href='file:///~/iml-ws21-projects-risingnumpygods/Anchor/sampler.py?line=72'>73</a>\u001b[0m )\n",
      "\u001b[0;31mTypeError\u001b[0m: __init__() missing 1 required positional argument: 'nlp_object'"
     ]
    }
   ],
   "source": [
    "text_to_be_explained = \"This is a good book.\"\n",
    "\n",
    "explainer = explainer = Anchor(Tasktype.TEXT)\n",
    "\n",
    "task_paras = {\"nlp_object\": spacy.load(\"en_core_web_sm\")}\n",
    "method_paras = {\"beam_size\": 1, \"desired_confidence\": 0.8}\n",
    "explainer.explain_instance(\n",
    "    text_to_be_explained,\n",
    "    predict_lr,\n",
    "    method=\"beam\",\n",
    "    method_specific=method_paras,\n",
    "    task_paras = {\"nlp_object\": spacy.load(\"en_core_web_sm\")}\n",
    "    num_coverage_samples=1\n",
    ")"
   ]
  }
 ],
 "metadata": {
  "interpreter": {
   "hash": "1ee014a394539ea33a681f57bab852aba5460f711bf7a82fe5b61ba0c6bc8483"
  },
  "kernelspec": {
   "display_name": "Python 3.9.7 ('iML')",
   "language": "python",
   "name": "python3"
  },
  "language_info": {
   "codemirror_mode": {
    "name": "ipython",
    "version": 3
   },
   "file_extension": ".py",
   "mimetype": "text/x-python",
   "name": "python",
   "nbconvert_exporter": "python",
   "pygments_lexer": "ipython3",
   "version": "3.9.7"
  },
  "orig_nbformat": 4
 },
 "nbformat": 4,
 "nbformat_minor": 2
}
