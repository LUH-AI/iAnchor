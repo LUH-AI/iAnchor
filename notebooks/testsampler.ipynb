{
 "cells": [
  {
   "cell_type": "code",
   "execution_count": 2,
   "metadata": {},
   "outputs": [],
   "source": [
    "from transformers import DistilBertTokenizer, DistilBertForMaskedLM\n",
    "import torch"
   ]
  },
  {
   "cell_type": "code",
   "execution_count": null,
   "metadata": {},
   "outputs": [],
   "source": [
    "bert_tokenizer = DistilBertTokenizer.from_pretrained('distilbert-base-cased')\n",
    "bert = DistilBertForMaskedLM.from_pretrained('distilbert-base-cased')"
   ]
  },
  {
   "cell_type": "code",
   "execution_count": null,
   "metadata": {},
   "outputs": [],
   "source": [
    "#nlp pipeline \n",
    "import spacy\n",
    "nlp = spacy.load('en_core_web_sm')"
   ]
  },
  {
   "cell_type": "code",
   "execution_count": null,
   "metadata": {},
   "outputs": [],
   "source": [
    "import numpy as np\n",
    "def exp_normalize(x):\n",
    "    b = x.max()\n",
    "    y = np.exp(x - b)\n",
    "    return y / y.sum()\n",
    "\n",
    "\n",
    "def pred_top_cbow(sentences: list[str]) -> list[tuple[list[str], list[float]]]:\n",
    "    string = \" \".join(sentences)\n",
    "    encoded_text = bert_tokenizer.encode(string, add_special_tokens=True)\n",
    "    mask_token_idx = (np.array(encoded_text) == bert_tokenizer.mask_token_id).nonzero()[0]\n",
    "    input = torch.tensor([encoded_text])\n",
    "\n",
    "    with torch.no_grad():\n",
    "        output = bert(input)[0]\n",
    "           \n",
    "    ret = []\n",
    "    for i in mask_token_idx:\n",
    "        v, top_preds = torch.topk(output[0, i], 500)\n",
    "        words = bert_tokenizer.convert_ids_to_tokens(top_preds)\n",
    "        ret.append((words, v.numpy()))\n",
    "\n",
    "    return ret\n",
    "\n",
    "cache = {}\n",
    "def probs(s):\n",
    "    result = pred_top_cbow(s)\n",
    "\n",
    "    print(len(result))\n",
    "    # cache[s[0]] = [(a,exp_normalize(b)) for a,b in result]\n",
    "    # print(cache[s[0]])\n",
    "    # cache[s[0]] = cache[s[0]][:1]\n",
    "    # print(\"abcdefghi\")\n",
    "    # print(cache[s[0]])\n",
    "\n",
    "\n",
    "text = 'This is a good book .'\n",
    "preprocessed_words = nlp(text)\n",
    "\n",
    "## Text generator\n",
    "mask = bert_tokenizer.mask_token\n",
    "\n",
    "## Sentance pertubator\n",
    "words = np.array([x.text for x in preprocessed_words], dtype='|U80')\n",
    "\n",
    "n_words = len(words)\n",
    "\n",
    "word_matrix = np.tile(words, (n_words, 1))\n",
    "np.fill_diagonal(word_matrix, mask)\n",
    "masked_sentences = [\" \".join(x) for x in word_matrix]\n",
    "\n",
    "for sentence in masked_sentences:\n",
    "    probs([sentence])\n",
    "\n"
   ]
  },
  {
   "cell_type": "code",
   "execution_count": 3,
   "metadata": {},
   "outputs": [],
   "source": [
    "bert_tokenizer = DistilBertTokenizer.from_pretrained('distilbert-base-cased')\n",
    "bert = DistilBertForMaskedLM.from_pretrained('distilbert-base-cased')\n",
    "\n",
    "import spacy\n",
    "nlp = spacy.load('en_core_web_sm')\n",
    "\n",
    "\n",
    "text_to_explain = \"This is a good book.\"\n",
    "text_to_explain = nlp(text_to_explain)\n"
   ]
  },
  {
   "cell_type": "code",
   "execution_count": 20,
   "metadata": {},
   "outputs": [
    {
     "name": "stdout",
     "output_type": "stream",
     "text": [
      "1\n",
      "0.031633068\n",
      "1\n",
      "0.5\n",
      "1\n",
      "0.5\n",
      "1\n",
      "0.002982501\n",
      "1\n",
      "0.021095624\n",
      "1\n",
      "0.35414582\n",
      "['This', 'is', 'a', 'good', 'book', '.']\n",
      "['This', 'is', 'a', 'good', 'book', '.']\n",
      "0\n"
     ]
    },
    {
     "ename": "IndexError",
     "evalue": "list index out of range",
     "output_type": "error",
     "traceback": [
      "\u001b[0;31m---------------------------------------------------------------------------\u001b[0m",
      "\u001b[0;31mIndexError\u001b[0m                                Traceback (most recent call last)",
      "Input \u001b[0;32mIn [20]\u001b[0m, in \u001b[0;36m<module>\u001b[0;34m\u001b[0m\n\u001b[1;32m     51\u001b[0m \u001b[38;5;28mprint\u001b[39m(a)\n\u001b[1;32m     53\u001b[0m s \u001b[38;5;241m=\u001b[39m \u001b[38;5;124m'\u001b[39m\u001b[38;5;124m \u001b[39m\u001b[38;5;124m'\u001b[39m\u001b[38;5;241m.\u001b[39mjoin(a)\n\u001b[0;32m---> 54\u001b[0m words, p \u001b[38;5;241m=\u001b[39m \u001b[43mprob\u001b[49m\u001b[43m(\u001b[49m\u001b[43ms\u001b[49m\u001b[43m)\u001b[49m\u001b[43m[\u001b[49m\u001b[38;5;241;43m0\u001b[39;49m\u001b[43m]\u001b[49m\n\u001b[1;32m     55\u001b[0m a[i] \u001b[38;5;241m=\u001b[39m np\u001b[38;5;241m.\u001b[39mrandom\u001b[38;5;241m.\u001b[39mchoice(words, p\u001b[38;5;241m=\u001b[39mp)\n",
      "\u001b[0;31mIndexError\u001b[0m: list index out of range"
     ]
    }
   ],
   "source": [
    "import numpy as np\n",
    "\n",
    "def exp_normalize(x):\n",
    "    b = x.max()\n",
    "    y = np.exp(x - b)\n",
    "    return y / y.sum()\n",
    "\n",
    "# Textgenerator unmask\n",
    "def unmask(s):\n",
    "    encoded_text = bert_tokenizer.encode(s, add_special_tokens=True)\n",
    "    mask_token_idx = (np.array(encoded_text) == bert_tokenizer.mask_token_id).nonzero()[0]\n",
    "    input = torch.tensor([encoded_text])\n",
    "\n",
    "    with torch.no_grad():\n",
    "        output = bert(input)[0]\n",
    "           \n",
    "    ret = []\n",
    "    for i in mask_token_idx:\n",
    "        v, top_preds = torch.topk(output[0, i], 500)\n",
    "        words = bert_tokenizer.convert_ids_to_tokens(top_preds)\n",
    "        ret.append((words, v.numpy()))\n",
    "\n",
    "    return ret\n",
    "\n",
    "\n",
    "# Setence prob func\n",
    "test = {}\n",
    "def prob(s):\n",
    "    result = unmask(s)\n",
    "    print(len(result))\n",
    "    test[s] = [(a, exp_normalize(b)) for a, b in result]\n",
    "\n",
    "    return test[s]\n",
    "# Sentence pertub init\n",
    "\n",
    "words_in_text = [word.text for word in text_to_explain]\n",
    "words_in_np = np.array(words_in_text, '|U80')\n",
    "\n",
    "for i in range(len(words_in_text)):\n",
    "    a = words_in_np.copy()\n",
    "    a[i] = bert_tokenizer.mask_token\n",
    "\n",
    "    s_a = \" \".join(a)\n",
    "    w, p = prob(s_a)[0]\n",
    "\n",
    "    print(min(0.5, dict(zip(w, p)).get(words_in_text[i], 0.01)))\n",
    "\n",
    "\n",
    "print(words_in_text)\n",
    "a = words_in_text.copy()\n",
    "a[4] = bert_tokenizer.mask_token\n",
    "\n",
    "s = ' '.join(a)\n",
    "words, p = prob(s)[0]\n",
    "a[4] = np.random.choice(words, p=p)"
   ]
  }
 ],
 "metadata": {
  "interpreter": {
   "hash": "1ee014a394539ea33a681f57bab852aba5460f711bf7a82fe5b61ba0c6bc8483"
  },
  "kernelspec": {
   "display_name": "Python 3.9.7 64-bit ('iML': conda)",
   "language": "python",
   "name": "python3"
  },
  "language_info": {
   "codemirror_mode": {
    "name": "ipython",
    "version": 3
   },
   "file_extension": ".py",
   "mimetype": "text/x-python",
   "name": "python",
   "nbconvert_exporter": "python",
   "pygments_lexer": "ipython3",
   "version": "3.9.7"
  },
  "orig_nbformat": 4
 },
 "nbformat": 4,
 "nbformat_minor": 2
}
