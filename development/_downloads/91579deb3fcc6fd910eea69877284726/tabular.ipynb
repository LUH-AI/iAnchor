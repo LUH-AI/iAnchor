{
  "cells": [
    {
      "cell_type": "code",
      "execution_count": null,
      "metadata": {
        "collapsed": false
      },
      "outputs": [],
      "source": [
        "%matplotlib inline"
      ]
    },
    {
      "cell_type": "markdown",
      "metadata": {},
      "source": [
        "\n# Tabular Explanation\n\nAn example how to use iAnchor for tabular data.\n"
      ]
    },
    {
      "cell_type": "code",
      "execution_count": null,
      "metadata": {
        "collapsed": false
      },
      "outputs": [],
      "source": [
        "import numpy as np\nimport sklearn\nimport sklearn.ensemble\nfrom ianchor.anchor import Anchor\nfrom ianchor.samplers import Tasktype\n\n\nif __name__ == \"__main__\":\n    # Get data\n    data = np.genfromtxt(\"datasets/titanic.txt\", delimiter=\",\")\n    y_train = data[:, -1]\n    X_train = data[:, :-1]\n\n    # Train model\n    c = sklearn.ensemble.RandomForestClassifier(n_estimators=100, n_jobs=5, random_state=123)\n    c.fit(X_train, y_train)\n    print(\"Train accuracy:\", sklearn.metrics.accuracy_score(y_train, c.predict(X_train)))\n\n    # Create explainer\n    explainer = Anchor(Tasktype.TABULAR)\n    task_paras = {\n        \"dataset\": X_train,\n        \"column_names\": [\n            \"PcClass\",\n            \"Name\",\n            \"Sex\",\n            \"Age\",\n            \"SibSp\",\n            \"Parch\",\n            \"Ticket\",\n            \"Fare\",\n            \"Cabin\",\n            \"Embarked\",\n        ],\n    }\n    method_paras = {\"beam_size\": 1, \"desired_confidence\": 1.0}\n\n    # Explain instance\n    anchor = explainer.explain_instance(\n        input=X_train[759].reshape(1, -1),\n        predict_fn=c.predict,\n        method=\"beam\",\n        task_specific=task_paras,\n        method_specific=method_paras,\n        num_coverage_samples=100,\n    )\n\n    # Visualize explanation\n    v = explainer.visualize(anchor, X_train[759])\n    print(v)"
      ]
    }
  ],
  "metadata": {
    "kernelspec": {
      "display_name": "Python 3",
      "language": "python",
      "name": "python3"
    },
    "language_info": {
      "codemirror_mode": {
        "name": "ipython",
        "version": 3
      },
      "file_extension": ".py",
      "mimetype": "text/x-python",
      "name": "python",
      "nbconvert_exporter": "python",
      "pygments_lexer": "ipython3",
      "version": "3.8.12"
    }
  },
  "nbformat": 4,
  "nbformat_minor": 0
}