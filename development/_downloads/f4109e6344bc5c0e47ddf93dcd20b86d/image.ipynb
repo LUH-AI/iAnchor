{
  "cells": [
    {
      "cell_type": "code",
      "execution_count": null,
      "metadata": {
        "collapsed": false
      },
      "outputs": [],
      "source": [
        "%matplotlib inline"
      ]
    },
    {
      "cell_type": "markdown",
      "metadata": {},
      "source": [
        "\n# Image Explanation\n\nAn example how to use iAnchor for image data.\n"
      ]
    },
    {
      "cell_type": "code",
      "execution_count": null,
      "metadata": {
        "collapsed": false
      },
      "outputs": [],
      "source": [
        "import torch\nimport torchvision.transforms as transforms\nfrom ianchor import Tasktype\nfrom ianchor.anchor import Anchor\nfrom ianchor.util import pytorch_image_wrapper\nfrom torchvision.models import inception_v3\nfrom PIL import Image\nimport matplotlib.pyplot as plt\n\n\nif __name__ == \"__main__\":\n\n    # model: c, h, w\n    # numpy, sklearn matplotlib: w, h, c\n    preprocess = transforms.Compose(\n        [\n            transforms.Resize(299),\n            transforms.CenterCrop(299),\n            transforms.ToTensor(),\n            transforms.Normalize(mean=[0.485, 0.456, 0.406], std=[0.229, 0.224, 0.225]),\n        ]\n    )\n\n    image = Image.open(\"static/dog.jpeg\")\n    input = preprocess(image).unsqueeze(0)  # b, c, h, w\n\n    # Get the model\n    model = inception_v3(pretrained=True)\n    model.eval()\n\n    # Move to device\n    device = torch.device(\"cuda\" if torch.cuda.is_available() else \"cpu\")\n    model.to(device)\n\n    # Prepare predict function\n    @pytorch_image_wrapper(device)\n    def predict(x):\n        return model(x)\n\n    # Get our explainer\n    explainer = Anchor(Tasktype.IMAGE)\n\n    # And explain instance\n    method_paras = {\"beam_size\": 2, \"desired_confidence\": 1.0}\n    anchor = explainer.explain_instance(\n        input.squeeze().permute(1, 2, 0),\n        predict_fn=predict,\n        method=\"beam\",\n        method_specific=method_paras,\n        num_coverage_samples=1000,\n    )\n\n    visu = explainer.visualize(anchor, input.squeeze().permute(1, 2, 0))\n    plt.imshow(visu)"
      ]
    }
  ],
  "metadata": {
    "kernelspec": {
      "display_name": "Python 3",
      "language": "python",
      "name": "python3"
    },
    "language_info": {
      "codemirror_mode": {
        "name": "ipython",
        "version": 3
      },
      "file_extension": ".py",
      "mimetype": "text/x-python",
      "name": "python",
      "nbconvert_exporter": "python",
      "pygments_lexer": "ipython3",
      "version": "3.8.12"
    }
  },
  "nbformat": 4,
  "nbformat_minor": 0
}